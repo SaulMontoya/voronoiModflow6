{
 "cells": [
  {
   "cell_type": "code",
   "execution_count": 1,
   "metadata": {},
   "outputs": [
    {
     "name": "stdout",
     "output_type": "stream",
     "text": [
      "loading simulation...\n",
      "  loading simulation name file...\n",
      "  loading tdis package...\n",
      "  loading model gwf6...\n",
      "    loading package disv...\n",
      "    loading package npf...\n",
      "    loading package ic...\n",
      "    loading package rch...\n",
      "    loading package evt...\n",
      "    loading package drn...\n",
      "    loading package oc...\n",
      "  loading ims package model...\n"
     ]
    }
   ],
   "source": [
    "import pyvista as pv\n",
    "import numpy as np\n",
    "import os, flopy\n",
    "import matplotlib.pyplot as plt\n",
    "from matplotlib.tri import Triangulation, LinearTriInterpolator\n",
    "from tqdm import tqdm\n",
    "\n",
    "    \n",
    "name = 'Model'\n",
    "workspace = '../modelData/model'\n",
    "mf_exe_name = '../modelData/exe/mf6'\n",
    "\n",
    "sim = flopy.mf6.MFSimulation.load(sim_name=name, exe_name=mf_exe_name, sim_ws=workspace)\n",
    "\n",
    "mfmodel = sim.get_model(model_name='model')\n",
    "\n",
    "fname = os.path.join(workspace, name + '.hds')\n",
    "hdobj = flopy.utils.HeadFile(fname, precision='double')\n",
    "head = hdobj.get_data()\n",
    "headMin = head[head>-1e+10].min()\n",
    "headMax = head[head>-1e+10].max()\n",
    "headRshp = head.reshape((head.shape[0],head.shape[2]))"
   ]
  },
  {
   "cell_type": "code",
   "execution_count": 2,
   "metadata": {},
   "outputs": [],
   "source": [
    "# define vertex interpolation functions\n",
    "def triInterpolation(zValue, xPoints, yPoints):\n",
    "    triObj = Triangulation(xPoints, yPoints)\n",
    "    fz = LinearTriInterpolator(triObj, zValue)\n",
    "    return fz\n",
    "\n",
    "def interpVerticesZ(zName, zValues, xyCentroid, xyVertices):\n",
    "    interpVerticesList=[]\n",
    "    layTri = triInterpolation(zValues, xyCentroid[:,0], xyCentroid[:,1])\n",
    "    \n",
    "    for index, vertice in enumerate(tqdm(xyVertices, desc=\"Working vertices elevations for %s\"%zName)):\n",
    "        \n",
    "        newZ = layTri(vertice[0],vertice[1])\n",
    "        if newZ.mask:\n",
    "            for index2, row2 in enumerate(cell2dList):\n",
    "                if index in row2[1:]:\n",
    "                    newZ = zValues[index2]\n",
    "        interpVerticesList.append(newZ)\n",
    "    interpVerticesArray = np.array(interpVerticesList)\n",
    "    return interpVerticesArray\n",
    "\n",
    "def interpVerticesHeads(zName, zValues, xyCentroid, xyVertices):\n",
    "    interpVerticesList=[]\n",
    "    #filtering over real heads\n",
    "    realHeadIndexArray = (zValues>-1.00000000e+10).nonzero()[0]\n",
    "    #reassigning arrays\n",
    "    zValuesFiltered = zValues[realHeadIndexArray]\n",
    "    xyCentroidFiltered = xyCentroid[realHeadIndexArray]\n",
    "    verticesIndexFiltered = []\n",
    "    for headCell in realHeadIndexArray:\n",
    "        verticesIndexFiltered+=cell2dList[headCell][1:]\n",
    "    verticesIndexFiltered = list(set(verticesIndexFiltered))\n",
    "    #triangle interpolation function\n",
    "    layTri = triInterpolation(zValuesFiltered, xyCentroidFiltered[:,0], xyCentroidFiltered[:,1])\n",
    "    #empty array\n",
    "    interpVerticesArray = np.ones([nvert])*-1.00000000e+10\n",
    "    for vertexIndex in tqdm(verticesIndexFiltered, desc=\"Working vertices heads for %s\"%zName):\n",
    "        vertice = xyVertices[vertexIndex]\n",
    "        newZ = layTri(vertice[0],vertice[1])\n",
    "        if newZ.mask:\n",
    "            for index2, row2 in enumerate(cell2dList):\n",
    "                if vertexIndex in row2[1:]:\n",
    "                    if zValues[index2]>-1.00000000e+10:\n",
    "                        #print(zValues[index2])\n",
    "                        newZ = zValues[index2]\n",
    "                    \n",
    "        interpVerticesArray[vertexIndex] = newZ\n",
    "    return interpVerticesArray"
   ]
  },
  {
   "cell_type": "code",
   "execution_count": 3,
   "metadata": {},
   "outputs": [
    {
     "name": "stdout",
     "output_type": "stream",
     "text": [
      "\n",
      "Calculating vertices elevations values\n"
     ]
    },
    {
     "name": "stderr",
     "output_type": "stream",
     "text": [
      "Working vertices elevations for Lay 0: 100%|██████████| 43707/43707 [00:13<00:00, 3176.64it/s]\n",
      "Working vertices elevations for Lay 1: 100%|██████████| 43707/43707 [00:13<00:00, 3185.45it/s]\n",
      "Working vertices elevations for Lay 2: 100%|██████████| 43707/43707 [00:13<00:00, 3228.14it/s]\n",
      "Working vertices elevations for Lay 3: 100%|██████████| 43707/43707 [00:14<00:00, 3073.95it/s]\n",
      "Working vertices elevations for Lay 4: 100%|██████████| 43707/43707 [00:13<00:00, 3139.96it/s]\n",
      "Working vertices elevations for Lay 5: 100%|██████████| 43707/43707 [00:13<00:00, 3259.52it/s]\n",
      "Working vertices elevations for Lay 6: 100%|██████████| 43707/43707 [00:14<00:00, 3044.66it/s]\n"
     ]
    },
    {
     "name": "stdout",
     "output_type": "stream",
     "text": [
      "\n",
      "Calculating vertices head values\n"
     ]
    },
    {
     "name": "stderr",
     "output_type": "stream",
     "text": [
      "Working vertices heads for Lay 0: 100%|██████████| 5240/5240 [00:04<00:00, 1090.49it/s]\n",
      "Working vertices heads for Lay 1: 100%|██████████| 7832/7832 [00:05<00:00, 1347.58it/s]\n",
      "Working vertices heads for Lay 2: 100%|██████████| 16164/16164 [00:06<00:00, 2384.78it/s]\n",
      "Working vertices heads for Lay 3: 100%|██████████| 41514/41514 [00:12<00:00, 3247.13it/s]\n",
      "Working vertices heads for Lay 4: 100%|██████████| 43707/43707 [00:12<00:00, 3389.74it/s]\n",
      "Working vertices heads for Lay 5: 100%|██████████| 43707/43707 [00:12<00:00, 3386.68it/s]\n",
      "Working vertices heads for Lay 6: 100%|██████████| 43707/43707 [00:13<00:00, 3339.58it/s]\n"
     ]
    }
   ],
   "source": [
    "# define model variables from flopy instanes\n",
    "nlay = mfmodel.disv.nlay.array\n",
    "nvert = mfmodel.disv.nvert.array\n",
    "ncpl = mfmodel.disv.ncpl.array\n",
    "modelCellZ = np.vstack((mfmodel.disv.top.array,mfmodel.disv.botm.array)) #cell Z in all layers\n",
    "modelHeadZ = np.vstack([headRshp,headRshp[-1]])\n",
    "# XY array for all cellvertices and centroids\n",
    "verticesXYArray = np.dstack((mfmodel.disv.vertices.array.xv,mfmodel.disv.vertices.array.yv))[0] \n",
    "centroidXYArray = np.dstack((mfmodel.disv.cell2d.array.xc,mfmodel.disv.cell2d.array.yc))[0]\n",
    "\n",
    "# XYZ for cell centroid\n",
    "centroidXYZDict = {}\n",
    "for lay in range(nlay):\n",
    "    centroidXYZDict[str(lay)] = np.dstack((mfmodel.disv.cell2d.array.xc,mfmodel.disv.cell2d.array.yc,(modelCellZ[lay] + modelCellZ[lay+1])/2))[0]\n",
    "\n",
    "cell2dList = []\n",
    "for index, cell in enumerate(mfmodel.disv.cell2d.array):\n",
    "    vertexIndexList = [x for x in list(cell)[3:] if x is not None]\n",
    "    cell2dList.append(vertexIndexList)        \n",
    "    \n",
    "# calculate cell vertex Z\n",
    "print('\\nCalculating vertices elevations values',flush=True)\n",
    "modelVertZ = np.zeros((nlay+1,nvert))\n",
    "for i in range(nlay+1):\n",
    "    modelVertZ[i] = interpVerticesZ('Lay '+str(i),modelCellZ[i], centroidXYArray, verticesXYArray)\n",
    "    \n",
    "# calculate cell vertex head\n",
    "print('\\nCalculating vertices head values',flush=True)\n",
    "modelVertHead = np.zeros((nlay+1,nvert))\n",
    "for i in range(nlay+1):\n",
    "    modelVertHead[i] = interpVerticesHeads('Lay '+str(i),modelHeadZ[i], centroidXYArray, verticesXYArray)\n",
    "    \n",
    "cell2dArray = np.hstack(cell2dList)"
   ]
  },
  {
   "cell_type": "markdown",
   "metadata": {},
   "source": [
    "### for model geometry"
   ]
  },
  {
   "cell_type": "code",
   "execution_count": 4,
   "metadata": {},
   "outputs": [
    {
     "name": "stderr",
     "output_type": "stream",
     "text": [
      "Working geometries for model grid: 100%|██████████| 6/6 [00:38<00:00,  6.46s/it]\n",
      "ERROR:root:Unable to open file: /home/jovyan/voronoiModflow6/vtk/ModelGrid.vtk\n",
      "Working on the outer model shell: 100%|██████████| 43707/43707 [00:07<00:00, 6073.13it/s]\n"
     ]
    }
   ],
   "source": [
    "baseGridXYZ = np.hstack((verticesXYArray,np.zeros([nvert,1])))\n",
    "baseGrid = pv.PolyData(baseGridXYZ,cell2dArray)\n",
    "\n",
    "layerTubes = {}\n",
    "for lay in tqdm(range(nlay),desc=(\"Working geometries for model grid\")):\n",
    "    workingGrid = baseGrid.copy()\n",
    "    workingVolume = workingGrid.extrude([0,0,1])\n",
    "    for vert in range(nvert):\n",
    "        workingVolume.points[vert][2] = modelVertZ[lay,vert]\n",
    "        workingVolume.points[vert+nvert][2] = modelVertZ[lay+1,vert]\n",
    "    layerTubes[str(lay)] = workingVolume\n",
    "layerBlocks = pv.MultiBlock(layerTubes)\n",
    "totalModelGrid = layerBlocks.combine()\n",
    "totalModelGrid.save('../vtk/ModelGrid.vtk')\n",
    "\n",
    "#print('Working on the outer model shell')\n",
    "workingGrid = baseGrid.copy()\n",
    "workingVolume = workingGrid.extrude([0,0,1])\n",
    "for vert in tqdm(range(nvert),desc=(\"Working on the outer model shell\")):\n",
    "    workingVolume.points[vert][2] = modelVertZ[0,vert]\n",
    "    workingVolume.points[vert+nvert][2] = modelVertZ[nlay,vert]\n",
    "workingVolume.save('../outputData/vtk/ModelShell.vtk')"
   ]
  },
  {
   "cell_type": "markdown",
   "metadata": {},
   "source": [
    "### for cell heads"
   ]
  },
  {
   "cell_type": "code",
   "execution_count": 5,
   "metadata": {},
   "outputs": [
    {
     "name": "stderr",
     "output_type": "stream",
     "text": [
      "Working head cell for model grid: 100%|██████████| 6/6 [00:39<00:00,  6.54s/it]\n",
      "ERROR:root:Unable to open file: /home/jovyan/voronoiModflow6/vtk/CellHeadsGrid.vtk\n"
     ]
    }
   ],
   "source": [
    "layerTubes = {}\n",
    "for lay in tqdm(range(nlay),desc=(\"Working head cell for model grid\")):\n",
    "    workingGrid = baseGrid.copy()\n",
    "    workingGrid.point_arrays['vertexHead'] = modelVertHead[lay]\n",
    "    workingGrid.cell_arrays['cellHead'] = headRshp[lay]\n",
    "    cellArray = workingGrid.cell_arrays.get_array('cellHead')\n",
    "    tresArray = cellArray<=-1E+10\n",
    "    workingGrid.remove_cells(tresArray)\n",
    "    workingVolume = workingGrid.extrude([0,0,1])\n",
    "    for vert in range(nvert):\n",
    "        workingVolume.points[vert][2] = modelVertZ[lay,vert]\n",
    "        workingVolume.points[vert+nvert][2] = modelVertZ[lay+1,vert]\n",
    "    workingVolume.cast_to_unstructured_grid()\n",
    "    layerTubes[str(lay)] = workingVolume \n",
    "layerBlocks = pv.MultiBlock(layerTubes)\n",
    "totalModelGrid = layerBlocks.combine()\n",
    "totalModelGrid.save('../vtk/CellHeadsGrid.vtk')"
   ]
  },
  {
   "cell_type": "code",
   "execution_count": 6,
   "metadata": {},
   "outputs": [],
   "source": [
    "modelContour = totalModelGrid.contour(isosurfaces=10,scalars='vertexHead',rng =(headMin, headMax), preference='cell')\n",
    "modelContour.save('../outputData/vtk/CellHeadsContour.vtk')"
   ]
  },
  {
   "cell_type": "markdown",
   "metadata": {},
   "source": [
    "### for water table"
   ]
  },
  {
   "cell_type": "code",
   "execution_count": 7,
   "metadata": {},
   "outputs": [
    {
     "name": "stderr",
     "output_type": "stream",
     "text": [
      "Working vertices elevations for Water Table: 100%|██████████| 43707/43707 [00:13<00:00, 3257.33it/s]\n"
     ]
    }
   ],
   "source": [
    "wtCellList =[] \n",
    "for index in range(ncpl):\n",
    "    headCell = headRshp[:,index]\n",
    "    wtCell = headCell[headCell>-1.00000000e+30][0]\n",
    "    wtCellList.append(wtCell)\n",
    "wtVertexList = interpVerticesZ('Water Table',wtCellList, centroidXYArray, verticesXYArray)\n",
    "\n",
    "workingGrid = baseGrid.copy()\n",
    "workingGrid.cell_arrays['cellWaterTable']=np.array(wtCellList)\n",
    "workingGrid.point_arrays['vertexWaterTable']=np.array(wtVertexList)\n",
    "for vert in range(nvert):\n",
    "    workingGrid.points[vert][2] = wtVertexList[vert]\n",
    "workingGrid.save('../outputData/vtk/WaterTable.vtk')"
   ]
  },
  {
   "cell_type": "markdown",
   "metadata": {},
   "source": [
    "### for drain boundary"
   ]
  },
  {
   "cell_type": "code",
   "execution_count": 8,
   "metadata": {},
   "outputs": [
    {
     "name": "stderr",
     "output_type": "stream",
     "text": [
      "Working drain cell for model grid: 100%|██████████| 6/6 [00:06<00:00,  1.17s/it]\n"
     ]
    }
   ],
   "source": [
    "drnPkg = mfmodel.get_package('drn_0')\n",
    "drnStp = drnPkg.stress_period_data.array[0]\n",
    "\n",
    "layerTubes = {}\n",
    "for lay in tqdm(range(nlay),desc=(\"Working drain cell for model grid\")):\n",
    "    workingGrid = baseGrid.copy()\n",
    "    #workingGrid.point_arrays['vertexHead'] = modelVertHead[lay]\n",
    "    drainCells = [i[1] for i in drnStp.cellid if i[0]==lay]\n",
    "    actElev = [i.elev for i in drnStp if i.cellid[0]==lay]\n",
    "    \n",
    "    drainElevArray = np.ones(ncpl)*-1E+10\n",
    "    drainElevArray[drainCells] = actElev\n",
    "    workingGrid.cell_arrays['drainElev'] = drainElevArray\n",
    "    cellArray = workingGrid.cell_arrays.get_array('drainElev')\n",
    "    tresArray = cellArray<=-1E+10\n",
    "    workingGrid.remove_cells(tresArray)\n",
    "    #print(workingGrid)\n",
    "    if workingGrid.n_cells>0:\n",
    "        workingVolume = workingGrid.extrude([0,0,1])\n",
    "        for vert in range(nvert):\n",
    "            workingVolume.points[vert][2] = modelVertZ[lay,vert]\n",
    "            workingVolume.points[vert+nvert][2] = modelVertZ[lay+1,vert]\n",
    "        workingVolume.cast_to_unstructured_grid()\n",
    "        layerTubes[str(lay)] = workingVolume \n",
    "layerBlocks = pv.MultiBlock(layerTubes)\n",
    "totalModelGrid = layerBlocks.combine()\n",
    "totalModelGrid.save('../outputData/vtk/Drains.vtk')"
   ]
  },
  {
   "cell_type": "code",
   "execution_count": null,
   "metadata": {},
   "outputs": [],
   "source": []
  }
 ],
 "metadata": {
  "kernelspec": {
   "display_name": "Python 3",
   "language": "python",
   "name": "python3"
  },
  "language_info": {
   "codemirror_mode": {
    "name": "ipython",
    "version": 3
   },
   "file_extension": ".py",
   "mimetype": "text/x-python",
   "name": "python",
   "nbconvert_exporter": "python",
   "pygments_lexer": "ipython3",
   "version": "3.8.6"
  }
 },
 "nbformat": 4,
 "nbformat_minor": 4
}
