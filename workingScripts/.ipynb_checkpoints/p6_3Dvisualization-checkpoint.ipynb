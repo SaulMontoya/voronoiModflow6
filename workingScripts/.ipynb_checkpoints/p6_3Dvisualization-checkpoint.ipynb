{
 "cells": [
  {
   "cell_type": "code",
   "execution_count": 1,
   "metadata": {},
   "outputs": [
    {
     "data": {
      "application/vnd.jupyter.widget-view+json": {
       "model_id": "2f0d984ce66644de9e02c06a0abd59b4",
       "version_major": 2,
       "version_minor": 0
      },
      "text/plain": [
       "VBox(children=(Checkbox(value=False, description='Drains.vtk'), Checkbox(value=False, description='WaterTable.…"
      ]
     },
     "metadata": {},
     "output_type": "display_data"
    }
   ],
   "source": [
    "import os\n",
    "import pyvista as pv\n",
    "from itkwidgets import view\n",
    "from ipywidgets import Checkbox, VBox, Button, Output\n",
    "\n",
    "vtkList = [i for i in os.listdir('../outputData/vtk') if i[-4:]=='.vtk']\n",
    "\n",
    "vbList = []\n",
    "for vtk in vtkList:\n",
    "    tmpBox = Checkbox(description=vtk)\n",
    "    vbList.append(tmpBox)\n",
    "vb = VBox(children = vbList)\n",
    "display(vb)        "
   ]
  },
  {
   "cell_type": "code",
   "execution_count": 6,
   "metadata": {},
   "outputs": [
    {
     "data": {
      "application/vnd.jupyter.widget-view+json": {
       "model_id": "aa1ca98824194d389459f3a5df7f5530",
       "version_major": 2,
       "version_minor": 0
      },
      "text/plain": [
       "Viewer(geometries=[{'vtkClass': 'vtkPolyData', 'points': {'vtkClass': 'vtkPoints', 'name': '_points', 'numberO…"
      ]
     },
     "metadata": {},
     "output_type": "display_data"
    }
   ],
   "source": [
    "geomList = []\n",
    "for vtk in vbList:\n",
    "    if vtk.get_state()['value'] == True:\n",
    "        vtkName = vtk.get_state()['description']\n",
    "        vtkObj = '../outputData/vtk/'+vtkName\n",
    "        geomList.append(pv.read(vtkObj))\n",
    "\n",
    "view(geometries=geomList)\n"
   ]
  },
  {
   "cell_type": "code",
   "execution_count": null,
   "metadata": {},
   "outputs": [],
   "source": []
  }
 ],
 "metadata": {
  "kernelspec": {
   "display_name": "Python 3",
   "language": "python",
   "name": "python3"
  },
  "language_info": {
   "codemirror_mode": {
    "name": "ipython",
    "version": 3
   },
   "file_extension": ".py",
   "mimetype": "text/x-python",
   "name": "python",
   "nbconvert_exporter": "python",
   "pygments_lexer": "ipython3",
   "version": "3.8.6"
  }
 },
 "nbformat": 4,
 "nbformat_minor": 4
}
