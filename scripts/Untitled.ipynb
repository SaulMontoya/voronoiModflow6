{
 "cells": [
  {
   "cell_type": "raw",
   "metadata": {
    "jupyter": {
     "source_hidden": true
    }
   },
   "source": [
    "import os, json\n",
    "import numpy as np\n",
    "#import geopandas as gpd\n",
    "import fiona, shapely\n",
    "import matplotlib.pyplot as plt\n",
    "from shapely.geometry import Polygon\n",
    "from tqdm import tqdm\n",
    "\n",
    "vorMesh = fiona.open('../shps/voronoiGridRelaxed.shp')\n",
    "\n",
    "# Get grid index\n",
    "intervalNumber = 10\n",
    "meshBounds = vorMesh.bounds\n",
    "gridXarray = np.linspace(meshBounds[0],meshBounds[2],intervalNumber+1)\n",
    "gridYarray = np.linspace(meshBounds[1],meshBounds[3],intervalNumber+1)\n",
    "\n",
    "totalVerticesList = []\n",
    "cell2dArrays = []\n",
    "polygonCentroidList = []\n",
    "gridIndexList =[]\n",
    "\n",
    "#defining function\n",
    "def findIndex(var, coordArray):\n",
    "    for interval in range(intervalNumber):\n",
    "#        if var > coordArray[interval] and var < coordArray[interval+1]:\n",
    "        if var >= coordArray[interval] and var < coordArray[interval+1]:\n",
    "            return interval\n",
    "            break\n",
    "            \n",
    "            \n",
    "print('\\nCreating a unique list of vertices [[x1,y1],[x2,y2],...]')\n",
    "for index, row in enumerate(tqdm(vorMesh, total= len(vorMesh))):\n",
    "    #vertices xy\n",
    "    if len(row['geometry']['coordinates']) == 1:\n",
    "        #print(row['geometry']['coordinates'])\n",
    "        xyList = [[i[0],i[1]] for i in row['geometry']['coordinates'][0]]\n",
    "        totalVerticesList += xyList\n",
    "    elif len(row['geometry']['coordinates']) > 1:\n",
    "        print(row['geometry']['coordinates'])\n",
    "        print(index)\n",
    "        for vertexList in row['geometry']['coordinates']:\n",
    "            #print(vertexList)\n",
    "            xyList = [[i[0],i[1]] for i in vertexList[0]]\n",
    "            #print(xyList)\n",
    "            totalVerticesList += xyList\n",
    "    else:\n",
    "        pass\n",
    "    \n",
    "uniqueVerticesArray = np.unique(np.array(totalVerticesList), axis=0)\n",
    "uniqueVerticesList = uniqueVerticesArray.tolist()\n",
    "\n",
    "vertexIndexDict = {}\n",
    "for index, vertex in enumerate(uniqueVerticesList):\n",
    "    srtVertex = str(vertex)\n",
    "    vertexIndexDict[srtVertex]=index\n",
    "    \n",
    "import matplotlib.pyplot as plt\n",
    "plt.scatter(uniqueVerticesArray[:,0],uniqueVerticesArray[:,1])\n",
    "\n",
    "\n",
    "print('\\nExtracting cell2d data and grid index')\n",
    "for index,row in enumerate(tqdm(vorMesh)):#.iterrows(), total= vorMesh.shape[0]):\n",
    "    rowCoords = row['geometry']['coordinates'][0]\n",
    "    rowPoly = Polygon(rowCoords)\n",
    "    #print(index)\n",
    "    #print(rowPoly.bounds)\n",
    "    #coords = rowGeometry.exterior.coords\n",
    "    #cell2d array\n",
    "    cellArray = []\n",
    "    #add index\n",
    "    cellArray.append(index)\n",
    "    #add centroid\n",
    "    cellArray += list(rowPoly.centroid.coords[0])\n",
    "    #working with vertices number and vertex\n",
    "    vertexIndexList = []\n",
    "    for vertex in rowCoords:\n",
    "        #print(vertex)\n",
    "        strVertex = str(list(vertex))\n",
    "        #print(vertexIndexDict[strVertex])\n",
    "        vertexIndexList.append(vertexIndexDict[srtVertex])\n",
    "    cellArray.append(len(vertexIndexList))\n",
    "    cellArray += vertexIndexList\n",
    "    cell2dArrays.append(cellArray)\n",
    "    #get grid index\n",
    "    xmin = rowPoly.bounds[0] #min(coords.xy[0])\n",
    "    xmax = rowPoly.bounds[2] #max(coords.xy[0])\n",
    "    ymin = rowPoly.bounds[1] #min(coords.xy[1])\n",
    "    ymax = rowPoly.bounds[3] #max(coords.xy[1])\n",
    "    xInterBeg = findIndex(xmin,gridXarray)\n",
    "    xInterEnd = findIndex(xmax,gridXarray)\n",
    "    yInterBeg = findIndex(ymin,gridYarray)\n",
    "    yInterEnd = findIndex(ymax,gridYarray)\n",
    "    gridIndexList.append([[xInterBeg,xInterEnd],[yInterBeg,yInterEnd]])\n",
    "    \n",
    "uniqueVerticesArray = np.unique(np.array(totalVerticesList),axis=0)\n",
    "uniqueVerticesList = uniqueVerticesArray.tolist()\n",
    "indexedVerticesList = [[index, row[0], row[1]] for index, row in enumerate(uniqueVerticesList)]\n",
    "\n",
    "disvDict = {}\n",
    "disvDict['NCPL'] = len(vorMesh)\n",
    "disvDict['NVERT'] = len(uniqueVerticesList)\n",
    "disvDict['uniqueVerticesList']=uniqueVerticesList\n",
    "disvDict['indexedVerticesList']=indexedVerticesList\n",
    "disvDict['cell2dArrays'] = cell2dArrays\n",
    "\n",
    "spatialIndexDict = {}\n",
    "spatialIndexDict['intervalNumber'] = intervalNumber\n",
    "spatialIndexDict['gridXarray'] = list(gridXarray)\n",
    "spatialIndexDict['gridYarray'] = list(gridYarray)\n",
    "spatialIndexDict['gridIndexList'] = gridIndexList\n",
    "\n",
    "with open('../txt/disvDict.json', 'w') as outf:\n",
    "    json.dump(disvDict, outf)\n",
    "\n",
    "with open('../txt/spatialIndexDict.json', 'w') as outf:\n",
    "    json.dump(spatialIndexDict, outf)"
   ]
  },
  {
   "cell_type": "markdown",
   "metadata": {},
   "source": [
    "<hr/>\n",
    "<hr/>\n",
    "<hr/>"
   ]
  },
  {
   "cell_type": "code",
   "execution_count": 16,
   "metadata": {
    "jupyter": {
     "source_hidden": true
    }
   },
   "outputs": [],
   "source": [
    "import flopy\n",
    "import flopy.utils.binaryfile as bf\n",
    "import json, rasterio\n",
    "import fiona\n",
    "#import geopandas as gpd\n",
    "import numpy as np\n",
    "from shapely.geometry import LineString\n",
    "from tqdm import tqdm\n",
    "import time\n",
    "\n",
    "#open input files\n",
    "jsonFile = open('../txt/disvDict.json', 'r')\n",
    "disvDict = json.load(jsonFile)\n",
    "\n",
    "jsonFile = open('../txt/spatialIndexDict.json', 'r')\n",
    "spatialIndexDict = json.load(jsonFile)\n",
    "\n",
    "demRaster = rasterio.open('../rst/ASTGTM2_18S_xyz2.asc')\n",
    "#riversDf =  gpd.read_file('../shps/rios.shp')\n",
    "riverList = fiona.open('../shps/rios.shp')\n",
    "#meshDf = gpd.read_file('../shps/voronoiGridRelaxed.shp')\n",
    "meshList = fiona.open('../shps/voronoiGridRelaxed.shp')\n",
    "\n",
    "### MODFLOW Model ###\n",
    "modelName = 'Model'\n",
    "workSpace = '../model'\n",
    "exeName = '../exe/mf6.exe'\n"
   ]
  },
  {
   "cell_type": "code",
   "execution_count": 17,
   "metadata": {
    "jupyter": {
     "source_hidden": true
    }
   },
   "outputs": [],
   "source": [
    "sim = flopy.mf6.MFSimulation(sim_name=modelName, version='mf6',\n",
    "                             exe_name=exeName,\n",
    "                             sim_ws=workSpace)\n",
    "\n",
    "tdis = flopy.mf6.ModflowTdis(sim, time_units='SECONDS',\n",
    "                             perioddata=[[1.0, 1, 1.]])\n",
    "\n",
    "gwf = flopy.mf6.ModflowGwf(sim, modelname=modelName, save_flows=True)\n",
    "\n",
    "ims = flopy.mf6.ModflowIms(sim, print_option='SUMMARY', complexity='complex',\n",
    "                           outer_hclose=1.e-2, inner_hclose=1.e-2)\n",
    "\n",
    "#data from dictionary\n",
    "cell2d = disvDict['cell2dArrays']\n",
    "vertices = disvDict['indexedVerticesList']\n",
    "ncpl = disvDict['NCPL']\n",
    "nvert = disvDict['NVERT']\n",
    "#another disv data\n",
    "thickRatio = [0.05,0.1,0.2,0.4,0.7,1]\n",
    "nlay = 6\n",
    "bot = 3200\n",
    "\n",
    "top = []\n",
    "\n",
    "layBotmList = []\n",
    "for cell in cell2d:\n",
    "    cellBotmList = []\n",
    "    cellCentroid = cell[1:3]\n",
    "    valuesXY = demRaster.sample([cellCentroid])\n",
    "    topCell = float(list(valuesXY)[0][0])\n",
    "    top.append(topCell)\n",
    "    for lay in range(nlay):\n",
    "        botm = bot + (topCell - bot)*(1-thickRatio[lay])\n",
    "        cellBotmList.append(botm)\n",
    "    layBotmList.append(cellBotmList)\n",
    "\n",
    "topArray = np.array(top)\n",
    "botm = np.array(layBotmList).T\n",
    "\n",
    "dis = flopy.mf6.ModflowGwfdisv(gwf, nlay=nlay, ncpl=ncpl, nvert=nvert,\n",
    "                               top=topArray, botm=botm,\n",
    "                               vertices=vertices, cell2d=cell2d)\n",
    "\n",
    "# Flujo de propiedad\n",
    "kh = [1E-4, 1E-4, 5E-5, 1E-6, 5E-7, 5E-7]\n",
    "icelltype = [1, 1, 1, 1, 0, 0]\n",
    "npf = flopy.mf6.ModflowGwfnpf(gwf,\n",
    "                              save_specific_discharge=True,\n",
    "                              icelltype=icelltype,\n",
    "                              k=kh,\n",
    "                              k33=kh)\n",
    "\n",
    "ic = flopy.mf6.ModflowGwfic(gwf, strt=topArray.max())\n",
    "\n",
    "rch = flopy.mf6.ModflowGwfrcha(gwf, recharge=0.15/86400/365)\n",
    "\n",
    "evt = flopy.mf6.ModflowGwfevta(gwf, surface=top, rate=1.2/86400/365)\n",
    "\n",
    "# Get grid index\n",
    "intervalNumber = spatialIndexDict['intervalNumber']\n",
    "gridXarray = spatialIndexDict['gridXarray']\n",
    "gridYarray = spatialIndexDict['gridYarray']\n",
    "gridIndexList = spatialIndexDict['gridIndexList']\n",
    "\n",
    "#defining function\n",
    "def findIndex(var, coordArray):\n",
    "    for interval in range(intervalNumber):\n",
    "        if var > coordArray[interval] and var < coordArray[interval+1]:\n",
    "            return interval\n",
    "            break"
   ]
  },
  {
   "cell_type": "code",
   "execution_count": 18,
   "metadata": {
    "collapsed": true,
    "jupyter": {
     "outputs_hidden": true,
     "source_hidden": true
    }
   },
   "outputs": [
    {
     "name": "stdout",
     "output_type": "stream",
     "text": [
      "\n",
      "Working with the spatial index of rivers\n"
     ]
    },
    {
     "ename": "NameError",
     "evalue": "name 'riversDf' is not defined",
     "output_type": "error",
     "traceback": [
      "\u001b[0;31m---------------------------------------------------------------------------\u001b[0m",
      "\u001b[0;31mNameError\u001b[0m                                 Traceback (most recent call last)",
      "\u001b[0;32m<ipython-input-18-6441a47040a3>\u001b[0m in \u001b[0;36m<module>\u001b[0;34m\u001b[0m\n\u001b[1;32m      3\u001b[0m \u001b[0mriverSpd\u001b[0m \u001b[0;34m=\u001b[0m \u001b[0;34m[\u001b[0m\u001b[0;34m]\u001b[0m\u001b[0;34m\u001b[0m\u001b[0;34m\u001b[0m\u001b[0m\n\u001b[1;32m      4\u001b[0m \u001b[0;34m\u001b[0m\u001b[0m\n\u001b[0;32m----> 5\u001b[0;31m \u001b[0mriversDf\u001b[0m\u001b[0;34m[\u001b[0m\u001b[0;34m[\u001b[0m\u001b[0;34m\"xInterBeg\"\u001b[0m\u001b[0;34m,\u001b[0m\u001b[0;34m\"xInterEnd\"\u001b[0m\u001b[0;34m,\u001b[0m\u001b[0;34m\"yInterBeg\"\u001b[0m\u001b[0;34m,\u001b[0m\u001b[0;34m\"yInterEnd\"\u001b[0m\u001b[0;34m]\u001b[0m\u001b[0;34m]\u001b[0m \u001b[0;34m=\u001b[0m \u001b[0;36m0\u001b[0m\u001b[0;34m\u001b[0m\u001b[0;34m\u001b[0m\u001b[0m\n\u001b[0m\u001b[1;32m      6\u001b[0m \u001b[0;32mfor\u001b[0m \u001b[0mriverIndex\u001b[0m\u001b[0;34m,\u001b[0m \u001b[0mriverRow\u001b[0m \u001b[0;32min\u001b[0m \u001b[0mtqdm\u001b[0m\u001b[0;34m(\u001b[0m\u001b[0mriversDf\u001b[0m\u001b[0;34m.\u001b[0m\u001b[0miterrows\u001b[0m\u001b[0;34m(\u001b[0m\u001b[0;34m)\u001b[0m\u001b[0;34m,\u001b[0m \u001b[0mtotal\u001b[0m\u001b[0;34m=\u001b[0m \u001b[0mriversDf\u001b[0m\u001b[0;34m.\u001b[0m\u001b[0mshape\u001b[0m\u001b[0;34m[\u001b[0m\u001b[0;36m0\u001b[0m\u001b[0;34m]\u001b[0m\u001b[0;34m)\u001b[0m\u001b[0;34m:\u001b[0m\u001b[0;34m\u001b[0m\u001b[0;34m\u001b[0m\u001b[0m\n\u001b[1;32m      7\u001b[0m     \u001b[0mcoords\u001b[0m \u001b[0;34m=\u001b[0m \u001b[0mriverRow\u001b[0m\u001b[0;34m.\u001b[0m\u001b[0mgeometry\u001b[0m\u001b[0;34m.\u001b[0m\u001b[0mbounds\u001b[0m\u001b[0;34m\u001b[0m\u001b[0;34m\u001b[0m\u001b[0m\n",
      "\u001b[0;31mNameError\u001b[0m: name 'riversDf' is not defined"
     ]
    }
   ],
   "source": [
    "print('\\nWorking with the spatial index of rivers')\n",
    "riverCellsList = []\n",
    "riverSpd = []\n",
    "\n",
    "riversDf[[\"xInterBeg\",\"xInterEnd\",\"yInterBeg\",\"yInterEnd\"]] = 0\n",
    "for riverIndex, riverRow in tqdm(riversDf.iterrows(), total= riversDf.shape[0]):\n",
    "    coords = riverRow.geometry.bounds\n",
    "    xmin = coords[0]\n",
    "    xmax = coords[2]\n",
    "    ymin = coords[1]\n",
    "    ymax = coords[3]\n",
    "    xInterBeg = findIndex(xmin,gridXarray)\n",
    "    xInterEnd = findIndex(xmax,gridXarray)\n",
    "    yInterBeg = findIndex(ymin,gridYarray)\n",
    "    yInterEnd = findIndex(ymax,gridYarray)\n",
    "    riversDf.loc[riverIndex,\"xInterBeg\"] = xInterBeg\n",
    "    riversDf.loc[riverIndex,\"xInterEnd\"] = xInterEnd\n",
    "    riversDf.loc[riverIndex,\"yInterBeg\"] = yInterBeg\n",
    "    riversDf.loc[riverIndex,\"yInterEnd\"] = yInterEnd"
   ]
  },
  {
   "cell_type": "markdown",
   "metadata": {},
   "source": [
    "<hr/>\n",
    "<hr/>\n",
    "<hr/>"
   ]
  },
  {
   "cell_type": "code",
   "execution_count": 40,
   "metadata": {},
   "outputs": [],
   "source": [
    "import pyvista as pv\n",
    "import numpy as np\n",
    "from itkwidgets import view\n",
    "from scipy.spatial import Voronoi, voronoi_plot_2d\n",
    "import matplotlib.pyplot as plt"
   ]
  },
  {
   "cell_type": "code",
   "execution_count": 44,
   "metadata": {},
   "outputs": [],
   "source": [
    "points = np.array([[0, 0], [0, 1], [0, 2], [1, 0], [1, 1], [1, 2],\n",
    "                   \n",
    "                   [1.2, 0.2],[1.3, 0.3],[1.4, 0.4],[1.5, 0.5],\n",
    "                   \n",
    "                   [1.25, 0.5],[1.25, 0.6],[1.25, 0.7],\n",
    "\n",
    "                   [2, 0], [2, 1], [2, 2]])\n"
   ]
  },
  {
   "cell_type": "code",
   "execution_count": 48,
   "metadata": {},
   "outputs": [
    {
     "data": {
      "image/png": "[encoded data removed]",
      "text/plain": [
       "<Figure size 432x288 with 1 Axes>"
      ]
     },
     "metadata": {
      "needs_background": "light"
     },
     "output_type": "display_data"
    }
   ],
   "source": [
    "vor = Voronoi(points)\n",
    "fig = voronoi_plot_2d(vor)\n",
    "plt.show()"
   ]
  },
  {
   "cell_type": "code",
   "execution_count": 56,
   "metadata": {},
   "outputs": [
    {
     "data": {
      "image/png": "[encoded data removed]",
      "text/plain": [
       "<Figure size 432x288 with 1 Axes>"
      ]
     },
     "metadata": {
      "needs_background": "light"
     },
     "output_type": "display_data"
    }
   ],
   "source": [
    "\n",
    "vor = Voronoi(points, qhull_options=\"Qbb Qc Qz Qx Q4\")\n",
    "fig = voronoi_plot_2d(vor)\n",
    "plt.show()"
   ]
  },
  {
   "cell_type": "code",
   "execution_count": 46,
   "metadata": {},
   "outputs": [
    {
     "data": {
      "image/png": "[encoded data removed]",
      "text/plain": [
       "<Figure size 432x288 with 1 Axes>"
      ]
     },
     "metadata": {
      "needs_background": "light"
     },
     "output_type": "display_data"
    }
   ],
   "source": [
    "vor = Voronoi(points, incremental=False)\n",
    "fig = voronoi_plot_2d(vor)\n",
    "plt.show()"
   ]
  },
  {
   "cell_type": "code",
   "execution_count": null,
   "metadata": {},
   "outputs": [],
   "source": []
  }
 ],
 "metadata": {
  "kernelspec": {
   "display_name": "Python 3",
   "language": "python",
   "name": "python3"
  },
  "language_info": {
   "codemirror_mode": {
    "name": "ipython",
    "version": 3
   },
   "file_extension": ".py",
   "mimetype": "text/x-python",
   "name": "python",
   "nbconvert_exporter": "python",
   "pygments_lexer": "ipython3",
   "version": "3.8.6"
  }
 },
 "nbformat": 4,
 "nbformat_minor": 4
}
