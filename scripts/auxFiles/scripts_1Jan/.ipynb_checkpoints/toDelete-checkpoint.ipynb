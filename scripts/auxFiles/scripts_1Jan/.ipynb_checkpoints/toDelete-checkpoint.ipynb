{
 "cells": [
  {
   "cell_type": "code",
   "execution_count": 51,
   "metadata": {},
   "outputs": [],
   "source": [
    "import os\n",
    "import pyvista as pv\n",
    "from itkwidgets import view"
   ]
  },
  {
   "cell_type": "code",
   "execution_count": 56,
   "metadata": {},
   "outputs": [],
   "source": [
    "#view?"
   ]
  },
  {
   "cell_type": "code",
   "execution_count": 52,
   "metadata": {},
   "outputs": [
    {
     "data": {
      "application/vnd.jupyter.widget-view+json": {
       "model_id": "ff35a7847a6d4ef3b970c3756045e0a7",
       "version_major": 2,
       "version_minor": 0
      },
      "text/plain": [
       "VBox(children=(Checkbox(value=False, description='modelWaterTable.vtk'), Checkbox(value=False, description='to…"
      ]
     },
     "metadata": {},
     "output_type": "display_data"
    }
   ],
   "source": [
    "vtkList = [i for i in os.listdir('../vtk') if i[-4:]=='.vtk']\n",
    "#vtkList\n",
    "#outerShell = pv.read('../vtk/modelOuterShell.vtk')\n",
    "#outerShell\n",
    "#view(geometries=outerShell)\n",
    "\n",
    "from ipywidgets import Checkbox, VBox\n",
    "\n",
    "vbList = []\n",
    "for vtk in vtkList:\n",
    "    tmpBox = Checkbox(description=vtk)\n",
    "    vbList.append(tmpBox)\n",
    "vb = VBox(children = vbList)\n",
    "display(vb)"
   ]
  },
  {
   "cell_type": "code",
   "execution_count": 60,
   "metadata": {},
   "outputs": [
    {
     "data": {
      "application/vnd.jupyter.widget-view+json": {
       "model_id": "825e1e7588cf4c26959a25816dffdb71",
       "version_major": 2,
       "version_minor": 0
      },
      "text/plain": [
       "Viewer(geometries=[{'vtkClass': 'vtkPolyData', 'points': {'vtkClass': 'vtkPoints', 'name': '_points', 'numberO…"
      ]
     },
     "metadata": {},
     "output_type": "display_data"
    }
   ],
   "source": [
    "geomList = []\n",
    "for vtk in vbList:\n",
    "    if vtk.get_state()['value'] == True:\n",
    "        vtkName = vtk.get_state()['description']\n",
    "        vtkObj = '../vtk/'+vtkName\n",
    "        geomList.append(pv.read(vtkObj))\n",
    "view(geometries=geomList)"
   ]
  },
  {
   "cell_type": "code",
   "execution_count": null,
   "metadata": {},
   "outputs": [],
   "source": []
  },
  {
   "cell_type": "code",
   "execution_count": null,
   "metadata": {},
   "outputs": [],
   "source": [
    "import pyvista\n",
    "import numpy as np\n",
    "volume = np.zeros([50, 10, 10])\n",
    "volume[:3] = 1\n",
    "v = pyvista.wrap(volume)\n",
    "threshed = v.threshold(0.1)\n",
    "view(geometries=[threshed,v])"
   ]
  },
  {
   "cell_type": "code",
   "execution_count": null,
   "metadata": {},
   "outputs": [],
   "source": [
    "\n",
    "import ipywidgets as widgets\n",
    "from IPython.display import display\n",
    "button = widgets.Button(description=\"Plot VTK\")\n",
    "output = widgets.Output()\n",
    "\n",
    "display(button, output)\n",
    "\n",
    "def on_button_clicked(b):\n",
    "    with output:\n",
    "        view(geometries=pv.read(geomList[1]))\n",
    "\n",
    "button.on_click(on_button_clicked)\n",
    "\n"
   ]
  },
  {
   "cell_type": "code",
   "execution_count": null,
   "metadata": {},
   "outputs": [],
   "source": [
    "view(geometries=[pv.read(geomList[0]),pv.read(geomList[1]),pv.read(geomList[2])])"
   ]
  },
  {
   "cell_type": "code",
   "execution_count": null,
   "metadata": {},
   "outputs": [],
   "source": []
  }
 ],
 "metadata": {
  "kernelspec": {
   "display_name": "Python 3",
   "language": "python",
   "name": "python3"
  },
  "language_info": {
   "codemirror_mode": {
    "name": "ipython",
    "version": 3
   },
   "file_extension": ".py",
   "mimetype": "text/x-python",
   "name": "python",
   "nbconvert_exporter": "python",
   "pygments_lexer": "ipython3",
   "version": "3.8.6"
  }
 },
 "nbformat": 4,
 "nbformat_minor": 4
}
