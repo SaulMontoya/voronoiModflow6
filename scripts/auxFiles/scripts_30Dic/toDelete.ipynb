{
 "cells": [
  {
   "cell_type": "code",
   "execution_count": 24,
   "metadata": {},
   "outputs": [],
   "source": [
    "import os\n",
    "import pyvista as pv\n",
    "from itkwidgets import view"
   ]
  },
  {
   "cell_type": "code",
   "execution_count": 25,
   "metadata": {},
   "outputs": [
    {
     "data": {
      "text/plain": [
       "['modelWaterTable.vtk',\n",
       " 'modelDrains.vtk',\n",
       " 'modelOuterShell.vtk',\n",
       " 'totalModelHeads.vtk',\n",
       " 'totalModelGrid.vtk']"
      ]
     },
     "execution_count": 25,
     "metadata": {},
     "output_type": "execute_result"
    }
   ],
   "source": [
    "vtkList = [i for i in os.listdir('../vtk') if i[-4:]=='.vtk']\n",
    "vtkList"
   ]
  },
  {
   "cell_type": "raw",
   "metadata": {},
   "source": [
    "outerShell = pv.read('../vtk/modelOuterShell.vtk')\n",
    "outerShell\n",
    "view(geometries=outerShell)"
   ]
  },
  {
   "cell_type": "code",
   "execution_count": 26,
   "metadata": {},
   "outputs": [
    {
     "data": {
      "application/vnd.jupyter.widget-view+json": {
       "model_id": "f172e479c2454ac782e47ce6e8bef51c",
       "version_major": 2,
       "version_minor": 0
      },
      "text/plain": [
       "VBox(children=(Checkbox(value=False, description='modelWaterTable.vtk'), Checkbox(value=False, description='mo…"
      ]
     },
     "metadata": {},
     "output_type": "display_data"
    }
   ],
   "source": [
    "from ipywidgets import Checkbox, VBox\n",
    "\n",
    "vbList = []\n",
    "for vtk in vtkList:\n",
    "    tmpBox = Checkbox(description=vtk)\n",
    "    vbList.append(tmpBox)\n",
    "vb = VBox(children = vbList)\n",
    "display(vb)"
   ]
  },
  {
   "cell_type": "code",
   "execution_count": 31,
   "metadata": {},
   "outputs": [],
   "source": [
    "geomList = []\n",
    "for vtk in vbList:\n",
    "    if vtk.get_state()['value'] == True:\n",
    "        vtkName = vtk.get_state()['description']\n",
    "        geomList.append('../vtk/'+vtkName)\n",
    "#view(geometries=pv.read(geomList[1]))\n",
    "#pv.read(geomList[1])"
   ]
  },
  {
   "cell_type": "code",
   "execution_count": 12,
   "metadata": {},
   "outputs": [
    {
     "data": {
      "application/vnd.jupyter.widget-view+json": {
       "model_id": "b5d903d2001e4e40a31d76744bb42dcb",
       "version_major": 2,
       "version_minor": 0
      },
      "text/plain": [
       "Viewer(geometries=[{'vtkClass': 'vtkPolyData', 'points': {'vtkClass': 'vtkPoints', 'name': '_points', 'numberO…"
      ]
     },
     "metadata": {},
     "output_type": "display_data"
    }
   ],
   "source": [
    "a = pv.read(geomList[0])\n",
    "b = pv.read(geomList[1])\n",
    "view(geometries=pv.read(geomList[2]))"
   ]
  },
  {
   "cell_type": "code",
   "execution_count": 8,
   "metadata": {},
   "outputs": [
    {
     "data": {
      "text/plain": [
       "'../vtk/modelDrains.vtk'"
      ]
     },
     "execution_count": 8,
     "metadata": {},
     "output_type": "execute_result"
    }
   ],
   "source": []
  },
  {
   "cell_type": "code",
   "execution_count": 35,
   "metadata": {},
   "outputs": [
    {
     "data": {
      "application/vnd.jupyter.widget-view+json": {
       "model_id": "0364a6f7c2c74150b27ad25661cd3cb1",
       "version_major": 2,
       "version_minor": 0
      },
      "text/plain": [
       "Button(description='Plot VTK', style=ButtonStyle())"
      ]
     },
     "metadata": {},
     "output_type": "display_data"
    },
    {
     "data": {
      "application/vnd.jupyter.widget-view+json": {
       "model_id": "f23396f357d04f8a94f241a288422573",
       "version_major": 2,
       "version_minor": 0
      },
      "text/plain": [
       "Output()"
      ]
     },
     "metadata": {},
     "output_type": "display_data"
    }
   ],
   "source": [
    "\n",
    "import ipywidgets as widgets\n",
    "from IPython.display import display\n",
    "button = widgets.Button(description=\"Plot VTK\")\n",
    "output = widgets.Output()\n",
    "\n",
    "display(button, output)\n",
    "\n",
    "def on_button_clicked(b):\n",
    "    with output:\n",
    "        view(geometries=pv.read(geomList[1]))\n",
    "\n",
    "button.on_click(on_button_clicked)\n",
    "\n"
   ]
  },
  {
   "cell_type": "code",
   "execution_count": 40,
   "metadata": {},
   "outputs": [
    {
     "data": {
      "application/vnd.jupyter.widget-view+json": {
       "model_id": "7660336f429343039bd7c1d8d1db754d",
       "version_major": 2,
       "version_minor": 0
      },
      "text/plain": [
       "Viewer(geometries=[{'vtkClass': 'vtkPolyData', 'points': {'vtkClass': 'vtkPoints', 'name': '_points', 'numberO…"
      ]
     },
     "metadata": {},
     "output_type": "display_data"
    }
   ],
   "source": [
    "view(geometries=[pv.read(geomList[0]),pv.read(geomList[1]),pv.read(geomList[2])])"
   ]
  },
  {
   "cell_type": "code",
   "execution_count": null,
   "metadata": {},
   "outputs": [],
   "source": []
  }
 ],
 "metadata": {
  "kernelspec": {
   "display_name": "Python 3",
   "language": "python",
   "name": "python3"
  },
  "language_info": {
   "codemirror_mode": {
    "name": "ipython",
    "version": 3
   },
   "file_extension": ".py",
   "mimetype": "text/x-python",
   "name": "python",
   "nbconvert_exporter": "python",
   "pygments_lexer": "ipython3",
   "version": "3.8.6"
  }
 },
 "nbformat": 4,
 "nbformat_minor": 4
}
