{
 "cells": [
  {
   "cell_type": "code",
   "execution_count": 1,
   "metadata": {},
   "outputs": [
    {
     "name": "stdout",
     "output_type": "stream",
     "text": [
      "flopy is installed in /home/gida2/.local/lib/python3.6/site-packages/flopy\n",
      "loading simulation...\n",
      "  loading simulation name file...\n",
      "  loading tdis package...\n",
      "  loading model gwf6...\n",
      "    loading package disv...\n",
      "    loading package npf...\n",
      "    loading package ic...\n",
      "    loading package rch...\n",
      "    loading package evt...\n",
      "    loading package drn...\n",
      "    loading package oc...\n",
      "  loading ims package model...\n"
     ]
    }
   ],
   "source": [
    "import pyvista as pv\n",
    "import numpy as np\n",
    "import os, flopy\n",
    "import matplotlib.pyplot as plt\n",
    "from matplotlib.tri import Triangulation, LinearTriInterpolator\n",
    "from tqdm import tqdm\n",
    "\n",
    "    \n",
    "name = 'Model'\n",
    "workspace = '../model'\n",
    "mf_exe_name = '../exe/mf6'\n",
    "\n",
    "sim = flopy.mf6.MFSimulation.load(sim_name=name, exe_name=mf_exe_name, sim_ws=workspace)\n",
    "\n",
    "mfmodel = sim.get_model(model_name='model')\n",
    "\n",
    "fname = os.path.join(workspace, name + '.hds')\n",
    "hdobj = flopy.utils.HeadFile(fname, precision='double')\n",
    "head = hdobj.get_data()\n",
    "headRshp = head.reshape((head.shape[0],head.shape[2]))"
   ]
  },
  {
   "cell_type": "code",
   "execution_count": 2,
   "metadata": {},
   "outputs": [],
   "source": [
    "# define vertex interpolation functions\n",
    "def triInterpolation(zValue, xPoints, yPoints):\n",
    "    triObj = Triangulation(xPoints, yPoints)\n",
    "    fz = LinearTriInterpolator(triObj, zValue)\n",
    "    return fz\n",
    "\n",
    "def interpVerticesZ(zName, zValues, xyCentroid, xyVertices):\n",
    "    interpVerticesList=[]\n",
    "    layTri = triInterpolation(zValues, xyCentroid[:,0], xyCentroid[:,1])\n",
    "    \n",
    "    for index, vertice in tqdm(enumerate(xyVertices), desc=\"Working vertices for %s\"%zName):\n",
    "        \n",
    "        newZ = layTri(vertice[0],vertice[1])\n",
    "        if newZ.mask:\n",
    "            for index2, row2 in enumerate(cell2dList):\n",
    "                if index in row2[1:]:\n",
    "                    newZ = zValues[index2]\n",
    "        interpVerticesList.append(newZ)\n",
    "    interpVerticesArray = np.array(interpVerticesList)\n",
    "    return interpVerticesArray\n",
    "\n",
    "def interpVerticesHeads(zName, zValues, xyCentroid, xyVertices):\n",
    "    interpVerticesList=[]\n",
    "    #filtering over real heads\n",
    "    realHeadIndexArray = (zValues>-1.00000000e+30).nonzero()[0]\n",
    "    #reassigning arrays\n",
    "    zValuesFiltered = zValues[realHeadIndexArray]\n",
    "    xyCentroidFiltered = xyCentroid[realHeadIndexArray]\n",
    "    verticesIndexFiltered = []\n",
    "    for headCell in realHeadIndexArray:\n",
    "        verticesIndexFiltered+=cell2dList[headCell][1:]\n",
    "    verticesIndexFiltered = list(set(verticesIndexFiltered))\n",
    "    #triangle interpolation function\n",
    "    layTri = triInterpolation(zValuesFiltered, xyCentroidFiltered[:,0], xyCentroidFiltered[:,1])\n",
    "    #empty array\n",
    "    interpVerticesArray = np.ones([nvert])*-1.00000000e+30\n",
    "    for vertexIndex in tqdm(verticesIndexFiltered, desc=\"Working vertices for %s\"%zName):\n",
    "        vertice = xyVertices[vertexIndex]\n",
    "        newZ = layTri(vertice[0],vertice[1])\n",
    "        if newZ.mask:\n",
    "            for index2, row2 in enumerate(cell2dList):\n",
    "                if vertexIndex in row2[1:]:\n",
    "                    newZ = zValues[index2]\n",
    "        interpVerticesArray[vertexIndex] = newZ\n",
    "    return interpVerticesArray"
   ]
  },
  {
   "cell_type": "code",
   "execution_count": 4,
   "metadata": {},
   "outputs": [
    {
     "name": "stdout",
     "output_type": "stream",
     "text": [
      "Calculating vertices Z values\n"
     ]
    },
    {
     "name": "stderr",
     "output_type": "stream",
     "text": [
      "Working vertices for Lay 0: 99154it [00:08, 11835.79it/s]\n",
      "Working vertices for Lay 1: 99154it [00:08, 11530.29it/s]\n",
      "Working vertices for Lay 2: 99154it [00:08, 11562.61it/s]\n",
      "Working vertices for Lay 3: 99154it [00:08, 11560.86it/s]\n",
      "Working vertices for Lay 4: 99154it [00:08, 11697.74it/s]\n",
      "Working vertices for Lay 5: 99154it [00:08, 11514.47it/s]\n",
      "Working vertices for Lay 6: 99154it [00:08, 11625.87it/s]\n",
      "Working vertices for Lay 0:  14%|█▍        | 1745/12171 [00:00<00:00, 17442.66it/s]"
     ]
    },
    {
     "name": "stdout",
     "output_type": "stream",
     "text": [
      "Calculating vertices head values\n"
     ]
    },
    {
     "name": "stderr",
     "output_type": "stream",
     "text": [
      "Working vertices for Lay 0: 100%|██████████| 12171/12171 [00:02<00:00, 4546.54it/s]\n",
      "Working vertices for Lay 1: 100%|██████████| 13460/13460 [00:03<00:00, 4001.19it/s]\n",
      "Working vertices for Lay 2: 100%|██████████| 99154/99154 [00:08<00:00, 12209.17it/s]\n",
      "Working vertices for Lay 3: 100%|██████████| 99154/99154 [00:07<00:00, 12486.14it/s]\n",
      "Working vertices for Lay 4: 100%|██████████| 99154/99154 [00:08<00:00, 12367.82it/s]\n",
      "Working vertices for Lay 5: 100%|██████████| 99154/99154 [00:07<00:00, 12437.77it/s]\n",
      "Working vertices for Lay 6: 100%|██████████| 99154/99154 [00:08<00:00, 12239.60it/s]\n"
     ]
    }
   ],
   "source": [
    "# define model variables from flopy instanes\n",
    "nlay = mfmodel.disv.nlay.array\n",
    "nvert = mfmodel.disv.nvert.array\n",
    "ncpl = mfmodel.disv.ncpl.array\n",
    "modelCellZ = np.vstack((mfmodel.disv.top.array,mfmodel.disv.botm.array)) #cell Z in all layers\n",
    "modelHeadZ = np.vstack([headRshp,headRshp[-1]])\n",
    "# XY array for all cellvertices and centroids\n",
    "verticesXYArray = np.dstack((mfmodel.disv.vertices.array.xv,mfmodel.disv.vertices.array.yv))[0] \n",
    "centroidXYArray = np.dstack((mfmodel.disv.cell2d.array.xc,mfmodel.disv.cell2d.array.yc))[0]\n",
    "\n",
    "# XYZ for cell centroid\n",
    "centroidXYZDict = {}\n",
    "for lay in range(nlay):\n",
    "    centroidXYZDict[str(lay)] = np.dstack((mfmodel.disv.cell2d.array.xc,mfmodel.disv.cell2d.array.yc,(modelCellZ[lay] + modelCellZ[lay+1])/2))[0]\n",
    "\n",
    "cell2dList = []\n",
    "for index, cell in enumerate(mfmodel.disv.cell2d.array):\n",
    "    vertexIndexList = [x for x in list(cell)[3:] if x is not None]\n",
    "    cell2dList.append(vertexIndexList)        \n",
    "    \n",
    "# calculate cell vertex Z\n",
    "print('Calculating vertices Z values')\n",
    "modelVertZ = np.zeros((nlay+1,nvert))\n",
    "for i in range(nlay+1):\n",
    "    modelVertZ[i] = interpVerticesZ('Lay '+str(i),modelCellZ[i], centroidXYArray, verticesXYArray)\n",
    "    \n",
    "# calculate cell vertex head\n",
    "print('Calculating vertices head values')\n",
    "modelVertHead = np.zeros((nlay+1,nvert))\n",
    "for i in range(nlay+1):\n",
    "    modelVertHead[i] = interpVerticesHeads('Lay '+str(i),modelHeadZ[i], centroidXYArray, verticesXYArray)\n",
    "    \n",
    "cell2dArray = np.hstack(cell2dList)"
   ]
  },
  {
   "cell_type": "markdown",
   "metadata": {},
   "source": [
    "### for model geometry"
   ]
  },
  {
   "cell_type": "code",
   "execution_count": 6,
   "metadata": {},
   "outputs": [
    {
     "name": "stderr",
     "output_type": "stream",
     "text": [
      "Working geometries for model grid: 100%|██████████| 6/6 [00:24<00:00,  4.07s/it]\n"
     ]
    },
    {
     "name": "stdout",
     "output_type": "stream",
     "text": [
      "Working on the outer model shell\n"
     ]
    }
   ],
   "source": [
    "baseGridXYZ = np.hstack((verticesXYArray,np.zeros([nvert,1])))\n",
    "baseGrid = pv.PolyData(baseGridXYZ,cell2dArray)\n",
    "\n",
    "layerTubes = {}\n",
    "for lay in tqdm(range(nlay),desc=(\"Working geometries for model grid\")):\n",
    "    workingGrid = baseGrid.copy()\n",
    "    workingVolume = workingGrid.extrude([0,0,1])\n",
    "    for vert in range(nvert):\n",
    "        workingVolume.points[vert][2] = modelVertZ[lay,vert]\n",
    "        workingVolume.points[vert+nvert][2] = modelVertZ[lay+1,vert]\n",
    "    layerTubes[str(lay)] = workingVolume\n",
    "layerBlocks = pv.MultiBlock(layerTubes)\n",
    "totalModelGrid = layerBlocks.combine()\n",
    "totalModelGrid.save('../vtk/totalModelGrid.vtk')\n",
    "\n",
    "print('Working on the outer model shell')\n",
    "workingGrid = baseGrid.copy()\n",
    "workingVolume = workingGrid.extrude([0,0,1])\n",
    "for vert in range(nvert):\n",
    "    workingVolume.points[vert][2] = modelVertZ[0,vert]\n",
    "    workingVolume.points[vert+nvert][2] = modelVertZ[nlay,vert]\n",
    "workingVolume.save('../vtk/modelOuterShell.vtk')"
   ]
  },
  {
   "cell_type": "markdown",
   "metadata": {},
   "source": [
    "### for cell heads"
   ]
  },
  {
   "cell_type": "code",
   "execution_count": null,
   "metadata": {},
   "outputs": [],
   "source": [
    "layerTubes = {}\n",
    "for lay in tqdm(range(nlay),desc=(\"Working head cell for model grid\")):\n",
    "    workingGrid = baseGrid.copy()\n",
    "    #filtering cell heads\n",
    "    layCellHeads = headRshp[lay]\n",
    "    workingGrid.cell_arrays['cellHead']=layCellHeads\n",
    "    workingVolume = workingGrid.extrude([0,0,1])\n",
    "    for vert in range(nvert):\n",
    "        workingVolume.points[vert][2] = modelVertZ[lay,vert]\n",
    "        workingVolume.points[vert+nvert][2] = modelVertZ[lay+1,vert]\n",
    "    workingVolume.point_arrays['vertexHead']=np.hstack([modelVertHead[lay],modelVertHead[lay+1]])\n",
    "    layerTubes[str(lay)] = workingVolume\n",
    "layerBlocks = pv.MultiBlock(layerTubes)\n",
    "totalModelGrid = layerBlocks.combine(merge_points=True)\n",
    "totalModelGrid = totalModelGrid.threshold(value=-1.00000000e+10)\n",
    "totalModelGrid.save('../vtk/totalModelHeads.vtk')"
   ]
  },
  {
   "cell_type": "markdown",
   "metadata": {},
   "source": [
    "### for water table"
   ]
  },
  {
   "cell_type": "code",
   "execution_count": 38,
   "metadata": {},
   "outputs": [
    {
     "name": "stderr",
     "output_type": "stream",
     "text": [
      "100%|██████████| 49526/49526 [00:00<00:00, 334076.50it/s]\n",
      "Working vertices for Water Table: 99154it [00:08, 11734.17it/s]\n"
     ]
    },
    {
     "data": {
      "text/plain": [
       "array([3619.0772984 , 3619.0772984 , 3619.08099129, ..., 3622.12232215,\n",
       "       3622.11646138, 3622.12232215])"
      ]
     },
     "execution_count": 38,
     "metadata": {},
     "output_type": "execute_result"
    }
   ],
   "source": [
    "wtCellList =[] \n",
    "for index in tqdm(range(ncpl)):\n",
    "    headCell = headRshp[:,index]\n",
    "    wtCell = headCell[headCell>-1.00000000e+30][0]\n",
    "    wtCellList.append(wtCell)\n",
    "wtCellList = interpVerticesZ('Water Table',wtCellList, centroidXYArray, verticesXYArray)\n",
    "wtCellList"
   ]
  },
  {
   "cell_type": "code",
   "execution_count": 39,
   "metadata": {},
   "outputs": [
    {
     "name": "stderr",
     "output_type": "stream",
     "text": [
      "19407it [02:07, 152.30it/s]\n"
     ]
    },
    {
     "ename": "KeyboardInterrupt",
     "evalue": "",
     "output_type": "error",
     "traceback": [
      "\u001b[0;31m---------------------------------------------------------------------------\u001b[0m",
      "\u001b[0;31mKeyboardInterrupt\u001b[0m                         Traceback (most recent call last)",
      "\u001b[0;32m<ipython-input-39-0b503ed127cc>\u001b[0m in \u001b[0;36m<module>\u001b[0;34m\u001b[0m\n\u001b[1;32m      8\u001b[0m     \u001b[0;31m#create polydata for lay\u001b[0m\u001b[0;34m\u001b[0m\u001b[0;34m\u001b[0m\u001b[0;34m\u001b[0m\u001b[0m\n\u001b[1;32m      9\u001b[0m     \u001b[0mfilterVertexArray\u001b[0m \u001b[0;34m=\u001b[0m \u001b[0mnp\u001b[0m\u001b[0;34m.\u001b[0m\u001b[0marray\u001b[0m\u001b[0;34m(\u001b[0m\u001b[0;34m[\u001b[0m\u001b[0mlist\u001b[0m\u001b[0;34m(\u001b[0m\u001b[0mverticesXYArray\u001b[0m\u001b[0;34m[\u001b[0m\u001b[0mvertex\u001b[0m\u001b[0;34m]\u001b[0m\u001b[0;34m)\u001b[0m \u001b[0;34m+\u001b[0m \u001b[0;34m[\u001b[0m\u001b[0mwtCellList\u001b[0m\u001b[0;34m[\u001b[0m\u001b[0mvertex\u001b[0m\u001b[0;34m]\u001b[0m\u001b[0;34m]\u001b[0m \u001b[0;32mfor\u001b[0m \u001b[0mvertex\u001b[0m \u001b[0;32min\u001b[0m \u001b[0mvertexIndexList\u001b[0m\u001b[0;34m]\u001b[0m\u001b[0;34m)\u001b[0m\u001b[0;34m\u001b[0m\u001b[0;34m\u001b[0m\u001b[0m\n\u001b[0;32m---> 10\u001b[0;31m     \u001b[0mcellSurf\u001b[0m \u001b[0;34m=\u001b[0m \u001b[0mpv\u001b[0m\u001b[0;34m.\u001b[0m\u001b[0mPolyData\u001b[0m\u001b[0;34m(\u001b[0m\u001b[0mfilterVertexArray\u001b[0m\u001b[0;34m,\u001b[0m \u001b[0mfilterVertexIndexArray\u001b[0m\u001b[0;34m)\u001b[0m\u001b[0;34m\u001b[0m\u001b[0;34m\u001b[0m\u001b[0m\n\u001b[0m\u001b[1;32m     11\u001b[0m     \u001b[0;31m#cellSurf.cell_arrays['watertable'] = wtCellList[index]\u001b[0m\u001b[0;34m\u001b[0m\u001b[0;34m\u001b[0m\u001b[0;34m\u001b[0m\u001b[0m\n\u001b[1;32m     12\u001b[0m     \u001b[0mcellTubesList\u001b[0m\u001b[0;34m.\u001b[0m\u001b[0mappend\u001b[0m\u001b[0;34m(\u001b[0m\u001b[0mcellSurf\u001b[0m\u001b[0;34m)\u001b[0m\u001b[0;34m\u001b[0m\u001b[0;34m\u001b[0m\u001b[0m\n",
      "\u001b[0;32m~/.local/lib/python3.6/site-packages/pyvista/core/pointset.py\u001b[0m in \u001b[0;36m__init__\u001b[0;34m(self, *args, **kwargs)\u001b[0m\n\u001b[1;32m    177\u001b[0m             \u001b[0marg1_is_array\u001b[0m \u001b[0;34m=\u001b[0m \u001b[0misinstance\u001b[0m\u001b[0;34m(\u001b[0m\u001b[0margs\u001b[0m\u001b[0;34m[\u001b[0m\u001b[0;36m1\u001b[0m\u001b[0;34m]\u001b[0m\u001b[0;34m,\u001b[0m \u001b[0mnp\u001b[0m\u001b[0;34m.\u001b[0m\u001b[0mndarray\u001b[0m\u001b[0;34m)\u001b[0m\u001b[0;34m\u001b[0m\u001b[0;34m\u001b[0m\u001b[0m\n\u001b[1;32m    178\u001b[0m             \u001b[0;32mif\u001b[0m \u001b[0marg0_is_array\u001b[0m \u001b[0;32mand\u001b[0m \u001b[0marg1_is_array\u001b[0m\u001b[0;34m:\u001b[0m\u001b[0;34m\u001b[0m\u001b[0;34m\u001b[0m\u001b[0m\n\u001b[0;32m--> 179\u001b[0;31m                 \u001b[0mself\u001b[0m\u001b[0;34m.\u001b[0m\u001b[0m_from_arrays\u001b[0m\u001b[0;34m(\u001b[0m\u001b[0margs\u001b[0m\u001b[0;34m[\u001b[0m\u001b[0;36m0\u001b[0m\u001b[0;34m]\u001b[0m\u001b[0;34m,\u001b[0m \u001b[0margs\u001b[0m\u001b[0;34m[\u001b[0m\u001b[0;36m1\u001b[0m\u001b[0;34m]\u001b[0m\u001b[0;34m,\u001b[0m \u001b[0mdeep\u001b[0m\u001b[0;34m)\u001b[0m\u001b[0;34m\u001b[0m\u001b[0;34m\u001b[0m\u001b[0m\n\u001b[0m\u001b[1;32m    180\u001b[0m             \u001b[0;32melse\u001b[0m\u001b[0;34m:\u001b[0m\u001b[0;34m\u001b[0m\u001b[0;34m\u001b[0m\u001b[0m\n\u001b[1;32m    181\u001b[0m                 \u001b[0;32mraise\u001b[0m \u001b[0mTypeError\u001b[0m\u001b[0;34m(\u001b[0m\u001b[0;34m'Invalid input type'\u001b[0m\u001b[0;34m)\u001b[0m\u001b[0;34m\u001b[0m\u001b[0;34m\u001b[0m\u001b[0m\n",
      "\u001b[0;32m~/.local/lib/python3.6/site-packages/pyvista/core/pointset.py\u001b[0m in \u001b[0;36m_from_arrays\u001b[0;34m(self, vertices, faces, deep, verts)\u001b[0m\n\u001b[1;32m    270\u001b[0m \u001b[0;34m\u001b[0m\u001b[0m\n\u001b[1;32m    271\u001b[0m         \"\"\"\n\u001b[0;32m--> 272\u001b[0;31m         \u001b[0mself\u001b[0m\u001b[0;34m.\u001b[0m\u001b[0mSetPoints\u001b[0m\u001b[0;34m(\u001b[0m\u001b[0mpyvista\u001b[0m\u001b[0;34m.\u001b[0m\u001b[0mvtk_points\u001b[0m\u001b[0;34m(\u001b[0m\u001b[0mvertices\u001b[0m\u001b[0;34m,\u001b[0m \u001b[0mdeep\u001b[0m\u001b[0;34m=\u001b[0m\u001b[0mdeep\u001b[0m\u001b[0;34m)\u001b[0m\u001b[0;34m)\u001b[0m\u001b[0;34m\u001b[0m\u001b[0;34m\u001b[0m\u001b[0m\n\u001b[0m\u001b[1;32m    273\u001b[0m         \u001b[0;32mif\u001b[0m \u001b[0mverts\u001b[0m\u001b[0;34m:\u001b[0m\u001b[0;34m\u001b[0m\u001b[0;34m\u001b[0m\u001b[0m\n\u001b[1;32m    274\u001b[0m             \u001b[0mself\u001b[0m\u001b[0;34m.\u001b[0m\u001b[0mSetVerts\u001b[0m\u001b[0;34m(\u001b[0m\u001b[0mCellArray\u001b[0m\u001b[0;34m(\u001b[0m\u001b[0mfaces\u001b[0m\u001b[0;34m)\u001b[0m\u001b[0;34m)\u001b[0m\u001b[0;34m\u001b[0m\u001b[0;34m\u001b[0m\u001b[0m\n",
      "\u001b[0;32m~/.local/lib/python3.6/site-packages/pyvista/utilities/helpers.py\u001b[0m in \u001b[0;36mvtk_points\u001b[0;34m(points, deep)\u001b[0m\n\u001b[1;32m    285\u001b[0m         \u001b[0mpoints\u001b[0m \u001b[0;34m=\u001b[0m \u001b[0mnp\u001b[0m\u001b[0;34m.\u001b[0m\u001b[0mascontiguousarray\u001b[0m\u001b[0;34m(\u001b[0m\u001b[0mpoints\u001b[0m\u001b[0;34m)\u001b[0m\u001b[0;34m\u001b[0m\u001b[0;34m\u001b[0m\u001b[0m\n\u001b[1;32m    286\u001b[0m     \u001b[0mvtkpts\u001b[0m \u001b[0;34m=\u001b[0m \u001b[0mvtk\u001b[0m\u001b[0;34m.\u001b[0m\u001b[0mvtkPoints\u001b[0m\u001b[0;34m(\u001b[0m\u001b[0;34m)\u001b[0m\u001b[0;34m\u001b[0m\u001b[0;34m\u001b[0m\u001b[0m\n\u001b[0;32m--> 287\u001b[0;31m     \u001b[0mvtkpts\u001b[0m\u001b[0;34m.\u001b[0m\u001b[0mSetData\u001b[0m\u001b[0;34m(\u001b[0m\u001b[0mnps\u001b[0m\u001b[0;34m.\u001b[0m\u001b[0mnumpy_to_vtk\u001b[0m\u001b[0;34m(\u001b[0m\u001b[0mpoints\u001b[0m\u001b[0;34m,\u001b[0m \u001b[0mdeep\u001b[0m\u001b[0;34m=\u001b[0m\u001b[0mdeep\u001b[0m\u001b[0;34m)\u001b[0m\u001b[0;34m)\u001b[0m\u001b[0;34m\u001b[0m\u001b[0;34m\u001b[0m\u001b[0m\n\u001b[0m\u001b[1;32m    288\u001b[0m     \u001b[0;32mreturn\u001b[0m \u001b[0mvtkpts\u001b[0m\u001b[0;34m\u001b[0m\u001b[0;34m\u001b[0m\u001b[0m\n\u001b[1;32m    289\u001b[0m \u001b[0;34m\u001b[0m\u001b[0m\n",
      "\u001b[0;31mKeyboardInterrupt\u001b[0m: "
     ]
    }
   ],
   "source": [
    "\n",
    "cellTubesList = []\n",
    "cellTubesDict = {}\n",
    "#cellX = pv.PolyData()\n",
    "for index, cell in tqdm(enumerate(mfmodel.disv.cell2d.array)):\n",
    "    vertexIndexList = [x for x in list(cell)[4:] if x is not None]\n",
    "    filterVertexIndexList = [len(vertexIndexList)] + list(range(len(vertexIndexList)))\n",
    "    filterVertexIndexArray = np.array(filterVertexIndexList)\n",
    "    #create polydata for lay\n",
    "    filterVertexArray = np.array([list(verticesXYArray[vertex]) + [wtCellList[vertex]] for vertex in vertexIndexList])\n",
    "    cellSurf = pv.PolyData(filterVertexArray, filterVertexIndexArray)\n",
    "    #cellSurf.cell_arrays['watertable'] = wtCellList[index]\n",
    "    cellTubesList.append(cellSurf)\n",
    "    #cellX += cellSurf\n",
    "    \n",
    "for index, cell in enumerate(cellTubesList):\n",
    "    cellTubesDict[str(index)]=cell\n",
    "    \n",
    "totalModelCells = pv.MultiBlock(cellTubesDict)\n",
    "totalModelMerged = totalModelCells.combine()\n",
    "totalModelMerged.save('../vtk/modelWaterTable.vtk')\n",
    "#cellX.save('../vtk/modelWaterTable.vtk')"
   ]
  },
  {
   "cell_type": "markdown",
   "metadata": {},
   "source": [
    "### for drain boundary"
   ]
  },
  {
   "cell_type": "code",
   "execution_count": null,
   "metadata": {},
   "outputs": [],
   "source": [
    "\n",
    "drnPkg = mfmodel.get_package('drn_0')\n",
    "drainTubes = {}\n",
    "for index, drnCell in tqdm(enumerate(drnPkg.stress_period_data.array[0])):\n",
    "    cellNumber = drnCell[0][1]\n",
    "    cellLay = drnCell[0][0]\n",
    "    cellGrid = mfmodel.disv.cell2d.array[cellNumber]\n",
    "    vertexIndexList = [x for x in list(cellGrid)[4:] if x is not None]\n",
    "    filterVertexIndexList = [len(vertexIndexList)] + list(range(len(vertexIndexList)))\n",
    "    filterVertexIndexArray = np.array(filterVertexIndexList)\n",
    "    filterVertexArray = np.array([list(verticesXYArray[vertex]) + [modelCellZ[cellLay,cellNumber]] for vertex in vertexIndexList])\n",
    "    cellSurf = pv.PolyData(filterVertexArray, filterVertexIndexArray)\n",
    "    cellSurf.cell_arrays['elevation'] = drnCell[1]\n",
    "    cellSurf.cell_arrays['cond'] = drnCell[2]\n",
    "    cellZ = modelCellZ[:,cellNumber]\n",
    "    cellMesh = cellSurf.extrude([0, 0, cellZ[cellLay +1]-cellZ[cellLay]])\n",
    "    drainTubes[str(index)] = cellMesh \n",
    "totalDrainsCells = pv.MultiBlock(drainTubes)\n",
    "totalDrainsMerged = totalDrainsCells.combine()\n",
    "totalDrainsMerged.save('../vtk/modelDrains.vtk')"
   ]
  }
 ],
 "metadata": {
  "kernelspec": {
   "display_name": "Python 3",
   "language": "python",
   "name": "python3"
  },
  "language_info": {
   "codemirror_mode": {
    "name": "ipython",
    "version": 3
   },
   "file_extension": ".py",
   "mimetype": "text/x-python",
   "name": "python",
   "nbconvert_exporter": "python",
   "pygments_lexer": "ipython3",
   "version": "3.6.9"
  }
 },
 "nbformat": 4,
 "nbformat_minor": 4
}
