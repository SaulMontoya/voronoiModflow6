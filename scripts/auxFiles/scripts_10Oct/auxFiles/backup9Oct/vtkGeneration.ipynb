{
 "cells": [
  {
   "cell_type": "code",
   "execution_count": 1,
   "metadata": {},
   "outputs": [
    {
     "name": "stdout",
     "output_type": "stream",
     "text": [
      "flopy is installed in /home/gida2/.local/lib/python3.6/site-packages/flopy\n",
      "loading simulation...\n",
      "  loading simulation name file...\n",
      "  loading tdis package...\n",
      "  loading model gwf6...\n",
      "    loading package disv...\n",
      "    loading package npf...\n",
      "    loading package ic...\n",
      "    loading package rch...\n",
      "    loading package evt...\n",
      "    loading package riv...\n",
      "    loading package oc...\n",
      "  loading ims package model...\n"
     ]
    }
   ],
   "source": [
    "import pyvista as pv\n",
    "import numpy as np\n",
    "import os, flopy\n",
    "import matplotlib.pyplot as plt\n",
    "name = 'Model'\n",
    "workspace = '../model'\n",
    "mf_exe_name = '../exe/mf6'\n",
    "\n",
    "sim = flopy.mf6.MFSimulation.load(sim_name=name, exe_name=mf_exe_name, sim_ws=workspace)\n",
    "\n",
    "mfmodel = sim.get_model(model_name='model')\n",
    "\n",
    "fname = os.path.join(workspace, name + '.hds')\n",
    "hdobj = flopy.utils.HeadFile(fname, precision='double')\n",
    "head = hdobj.get_data()\n",
    "\n",
    "mtop = np.ones([mfmodel.disv.nvert.array ])*mfmodel.disv.top[0]\n",
    "verticesXYArray = np.dstack((mfmodel.disv.vertices.array.xv,mfmodel.disv.vertices.array.yv))[0]"
   ]
  },
  {
   "cell_type": "code",
   "execution_count": 2,
   "metadata": {},
   "outputs": [
    {
     "data": {
      "text/plain": [
       "{internal}\n",
       "(rec.array([(    0, 624365.32 , 8349269.99, 7, 64439, 64291, 64707, 68556, 69977, 64671, 64439, None, None, None, None, None),\n",
       "           (    1, 624875.935, 8349288.08, 8, 73223, 74750, 74033, 73401, 69977, 68556, 69385, 73223, None, None, None, None),\n",
       "           (    2, 625361.448, 8351451.3 , 8, 76972, 76308, 74104, 73982, 74126, 76734, 76860, 76972, None, None, None, None),\n",
       "           ...,\n",
       "           (49523, 629303.926, 8369860.63, 8, 91079, 91080, 91127, 91148, 91099, 91093, 91076, 91079, None, None, None, None),\n",
       "           (49524, 629283.165, 8369860.94, 5, 91025, 91079, 91076, 91039, 91025, None, None, None, None, None, None, None),\n",
       "           (49525, 629262.317, 8369859.4 , 7, 91025, 91039, 91037, 90965, 90972, 91015, 91025, None, None, None, None, None)],\n",
       "          dtype=[('icell2d', '<i8'), ('xc', '<f8'), ('yc', '<f8'), ('ncvert', '<i8'), ('icvert_0', '<i8'), ('icvert_1', '<i8'), ('icvert_2', '<i8'), ('icvert_3', '<i8'), ('icvert_4', 'O'), ('icvert_5', 'O'), ('icvert_6', 'O'), ('icvert_7', 'O'), ('icvert_8', 'O'), ('icvert_9', 'O'), ('icvert_10', 'O'), ('icvert_11', 'O')]))"
      ]
     },
     "execution_count": 2,
     "metadata": {},
     "output_type": "execute_result"
    }
   ],
   "source": [
    "mfmodel.disv.cell2d"
   ]
  },
  {
   "cell_type": "code",
   "execution_count": 3,
   "metadata": {},
   "outputs": [],
   "source": [
    "modelz = np.vstack((mfmodel.disv.top.array,mfmodel.disv.botm.array))\n",
    "nlay = mfmodel.disv.nlay.array"
   ]
  },
  {
   "cell_type": "code",
   "execution_count": 4,
   "metadata": {},
   "outputs": [],
   "source": [
    "cellTubes = {}\n",
    "for index, cell in enumerate(mfmodel.disv.cell2d.array):\n",
    "    vertexIndexList = [x for x in list(cell)[4:] if x is not None]\n",
    "    filterVertexIndexList = [len(vertexIndexList)] + list(range(len(vertexIndexList)))\n",
    "    filterVertexIndexArray = np.array(filterVertexIndexList)\n",
    "    #for lay\n",
    "    layerTubes = {}\n",
    "    for lay in range(nlay):\n",
    "        filterVertexArray = np.array([list(verticesXYArray[vertex]) + [modelz[lay,index]] for vertex in vertexIndexList])\n",
    "        cellSurf = pv.PolyData(filterVertexArray, filterVertexIndexArray)\n",
    "        cellSurf.cell_arrays['head'] = head[lay][0][index]\n",
    "        cellZ = modelz[:,index]\n",
    "        cellMesh = cellSurf.extrude([0, 0, cellZ[lay+1]-cellZ[lay]])\n",
    "        #cellMesh.save('../vtk/modelMerge_%d.vtk'%lay)\n",
    "        layerTubes[str(lay)] = cellMesh  \n",
    "    blocks = pv.MultiBlock(layerTubes)\n",
    "    cellTubes[str(index)] = blocks.combine()\n",
    "totalModelCells = pv.MultiBlock(cellTubes)\n",
    "totalModelMerged = totalModelCells.combine()\n",
    "#totalModelMerged.plot()\n",
    "totalModelMerged.save('../vtk/modelMerge.vtk')"
   ]
  },
  {
   "cell_type": "code",
   "execution_count": null,
   "metadata": {},
   "outputs": [],
   "source": []
  }
 ],
 "metadata": {
  "kernelspec": {
   "display_name": "Python 3",
   "language": "python",
   "name": "python3"
  },
  "language_info": {
   "codemirror_mode": {
    "name": "ipython",
    "version": 3
   },
   "file_extension": ".py",
   "mimetype": "text/x-python",
   "name": "python",
   "nbconvert_exporter": "python",
   "pygments_lexer": "ipython3",
   "version": "3.6.9"
  }
 },
 "nbformat": 4,
 "nbformat_minor": 4
}
