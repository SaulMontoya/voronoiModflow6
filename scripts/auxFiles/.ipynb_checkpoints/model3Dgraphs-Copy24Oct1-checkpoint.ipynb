{
 "cells": [
  {
   "cell_type": "code",
   "execution_count": 1,
   "metadata": {},
   "outputs": [
    {
     "name": "stdout",
     "output_type": "stream",
     "text": [
      "flopy is installed in /home/gida2/.local/lib/python3.6/site-packages/flopy\n",
      "loading simulation...\n",
      "  loading simulation name file...\n",
      "  loading tdis package...\n",
      "  loading model gwf6...\n",
      "    loading package disv...\n",
      "    loading package npf...\n",
      "    loading package ic...\n",
      "    loading package rch...\n",
      "    loading package evt...\n",
      "    loading package drn...\n",
      "    loading package oc...\n",
      "  loading ims package model...\n"
     ]
    }
   ],
   "source": [
    "import pyvista as pv\n",
    "import numpy as np\n",
    "import os, flopy\n",
    "import matplotlib.pyplot as plt\n",
    "from matplotlib.tri import Triangulation, LinearTriInterpolator\n",
    "from tqdm import tqdm\n",
    "\n",
    "    \n",
    "name = 'Model'\n",
    "workspace = '../model'\n",
    "mf_exe_name = '../exe/mf6'\n",
    "\n",
    "sim = flopy.mf6.MFSimulation.load(sim_name=name, exe_name=mf_exe_name, sim_ws=workspace)\n",
    "\n",
    "mfmodel = sim.get_model(model_name='model')\n",
    "\n",
    "fname = os.path.join(workspace, name + '.hds')\n",
    "hdobj = flopy.utils.HeadFile(fname, precision='double')\n",
    "head = hdobj.get_data()\n",
    "headRshp = head.reshape((head.shape[0],head.shape[2]))"
   ]
  },
  {
   "cell_type": "code",
   "execution_count": 2,
   "metadata": {},
   "outputs": [],
   "source": [
    "mTopCent = mfmodel.disv.top.get_data()\n",
    "verticesXYArray = np.dstack((mfmodel.disv.vertices.array.xv,mfmodel.disv.vertices.array.yv))[0]\n",
    "centroidXYArray = np.dstack((mfmodel.disv.cell2d.array.xc,mfmodel.disv.cell2d.array.yc))[0]\n",
    "\n",
    "listOfCell2d = []\n",
    "for index, cell in enumerate(mfmodel.disv.cell2d.array):\n",
    "    vertexIndexList = [x for x in list(cell)[3:] if x is not None]\n",
    "    listOfCell2d.append(vertexIndexList)\n",
    "\n",
    "def triInterpolation(zValue, xPoints, yPoints):\n",
    "    triObj = Triangulation(xPoints, yPoints)\n",
    "    fz = LinearTriInterpolator(triObj, zValue)\n",
    "    return fz\n",
    "\n",
    "def interpVertices(zName, zValues, xyCentroid, xyVertices):\n",
    "    interpVerticesList=[]\n",
    "    layTri = triInterpolation(zValues, xyCentroid[:,0], xyCentroid[:,1])\n",
    "    \n",
    "    for index, vertice in tqdm(enumerate(xyVertices), desc=\"Working for vertices for %s\"%zName):\n",
    "        \n",
    "        newZ = layTri(vertice[0],vertice[1])\n",
    "        if newZ.mask:\n",
    "            for index2, row2 in enumerate(listOfCell2d):\n",
    "                if index in row2[1:]:\n",
    "                    newZ = zValues[index2]\n",
    "        interpVerticesList.append(newZ)\n",
    "        \n",
    "    interpVerticesArray = np.array(interpVerticesList)\n",
    "    return interpVerticesArray"
   ]
  },
  {
   "cell_type": "code",
   "execution_count": 3,
   "metadata": {},
   "outputs": [
    {
     "name": "stderr",
     "output_type": "stream",
     "text": [
      "Working for vertices for Lay 0: 99154it [00:08, 12061.63it/s]\n",
      "Working for vertices for Lay 1: 99154it [00:08, 11199.16it/s]\n",
      "Working for vertices for Lay 2: 99154it [00:08, 11663.46it/s]\n",
      "Working for vertices for Lay 3: 99154it [00:08, 11812.47it/s]\n",
      "Working for vertices for Lay 4: 99154it [00:08, 12023.37it/s]\n",
      "Working for vertices for Lay 5: 99154it [00:08, 11696.74it/s]\n",
      "Working for vertices for Lay 6: 99154it [00:08, 11641.39it/s]\n"
     ]
    }
   ],
   "source": [
    "nlay = mfmodel.disv.nlay.array\n",
    "nvert = mfmodel.disv.nvert.array\n",
    "ncpl = mfmodel.disv.ncpl.array\n",
    "modelCellZ = np.vstack((mfmodel.disv.top.array,mfmodel.disv.botm.array))\n",
    "modelVertZ = np.zeros((nlay+1,mfmodel.disv.nvert.array))\n",
    "#print(modelVertZ.shape)\n",
    "for i in range(modelCellZ.shape[0]):\n",
    "    modelVertZ[i] = interpVertices('Lay '+str(i),modelCellZ[i], centroidXYArray, verticesXYArray)"
   ]
  },
  {
   "cell_type": "markdown",
   "metadata": {},
   "source": [
    "### for model geometry"
   ]
  },
  {
   "cell_type": "code",
   "execution_count": null,
   "metadata": {},
   "outputs": [],
   "source": [
    "cellTubes = {}\n",
    "for index, cell in tqdm(enumerate(listOfCell2d[:2]), desc=\"Creating the whole geometry\"):\n",
    "    \n",
    "    filterCell2dArray = np.array([[cell[0]]+list(range(cell[0]))])\n",
    "    #create polydata for lay\n",
    "    layerTubes = {}\n",
    "    \n",
    "    for lay in range(nlay):\n",
    "        baseXYZ = np.zeros([cell[0],3])\n",
    "        #for index, row in enumerate(cell[1:]):\n",
    "        #print(modelVertZ[lay].reshape([nvert,1]))\n",
    "        baseXYZ = np.hstack((verticesXYArray,modelVertZ[lay].reshape([nvert,1])))\n",
    "        #print(filterCell2dArray)\n",
    "        #print(baseXYZ)\n",
    "        cell2dArray = np.hstack(listOfCell2d)\n",
    "        #print(listOfCell2d)\n",
    "        #cellSurf = pv.PolyData(filterCell2dArray, baseXYZ[index])\n",
    "        cellSurf = pv.PolyData(baseXYZ,cell2dArray)\n",
    "        cellZ = modelCellZ[:,index]\n",
    "        cellMesh = cellSurf.extrude([0, 0, cellZ[lay+1]-cellZ[lay]])\n",
    "        layerTubes[str(lay)] = cellMesh  \n",
    "    blocks = pv.MultiBlock(layerTubes)\n",
    "    cellTubes[str(index)] = blocks.combine()\n",
    "totalModelCells  = pv.MultiBlock(cellTubes)\n",
    "totalModelMerged = totalModelCells.combine()\n",
    "totalModelMerged.save('../vtk/modelGeometry.vtk')"
   ]
  },
  {
   "cell_type": "code",
   "execution_count": 44,
   "metadata": {},
   "outputs": [
    {
     "name": "stderr",
     "output_type": "stream",
     "text": [
      "Working geometries for model grid: 100%|██████████| 6/6 [00:23<00:00,  3.84s/it]\n"
     ]
    },
    {
     "name": "stdout",
     "output_type": "stream",
     "text": [
      "Working on the outer model shell\n"
     ]
    }
   ],
   "source": [
    "baseGridXYZ = np.hstack((verticesXYArray,np.zeros([nvert,1])))\n",
    "cell2dArray = np.hstack(listOfCell2d)\n",
    "baseGrid = pv.PolyData(baseGridXYZ,cell2dArray)\n",
    "\n",
    "layerTubes = {}\n",
    "for lay in tqdm(range(nlay),desc=(\"Working geometries for model grid\")):\n",
    "    workingGrid = baseGrid.copy()\n",
    "    workingVolume = workingGrid.extrude([0,0,1])\n",
    "    for vert in range(nvert):\n",
    "        workingVolume.points[vert][2] = modelVertZ[lay,vert]\n",
    "        workingVolume.points[vert+nvert][2] = modelVertZ[lay+1,vert]\n",
    "    layerTubes[str(lay)] = workingVolume\n",
    "layerBlocks = pv.MultiBlock(layerTubes)\n",
    "totalModelGrid = layerBlocks.combine()\n",
    "totalModelGrid.save('../vtk/totalModelGrid.vtk')\n",
    "\n",
    "print('Working on the outer model shell')\n",
    "workingGrid = baseGrid.copy()\n",
    "workingVolume = workingGrid.extrude([0,0,1])\n",
    "for vert in range(nvert):\n",
    "    workingVolume.points[vert][2] = modelVertZ[0,vert]\n",
    "    workingVolume.points[vert+nvert][2] = modelVertZ[nlay,vert]\n",
    "workingVolume.save('../vtk/modelOuterShell.vtk')\n",
    "\n",
    "layerTubes = {}\n",
    "for lay in tqdm(range(nlay),desc=(\"Working head cell for model grid\")):\n",
    "    workingGrid = baseGrid.copy()\n",
    "    #assigning the cell heads\n",
    "    cellHeads = head[0][0]\n",
    "    cellHeads[cellHeads == -1.00000000e+30] = np.nan\n",
    "    workingVolume = workingGrid.extrude([0,0,1])\n",
    "    for vert in range(nvert):\n",
    "        workingVolume.points[vert][2] = modelVertZ[lay,vert]\n",
    "        workingVolume.points[vert+nvert][2] = modelVertZ[lay+1,vert]\n",
    "    for cell in range(ncell):\n",
    "        workingVolume.cell\n",
    "    layerTubes[str(lay)] = workingVolume\n",
    "layerBlocks = pv.MultiBlock(layerTubes)\n",
    "totalModelGrid = layerBlocks.combine()\n",
    "totalModelGrid.save('../vtk/totalModelGrid.vtk')\n"
   ]
  },
  {
   "cell_type": "code",
   "execution_count": 59,
   "metadata": {},
   "outputs": [
    {
     "data": {
      "text/plain": [
       "array([3614.26081605, 3614.3274543 ,           nan, ...,           nan,\n",
       "                 nan,           nan])"
      ]
     },
     "execution_count": 59,
     "metadata": {},
     "output_type": "execute_result"
    }
   ],
   "source": [
    "cellHeads = head[0][0]\n",
    "cellHeads[cellHeads == -1.00000000e+30] = np.nan\n",
    "cellHeads"
   ]
  },
  {
   "cell_type": "code",
   "execution_count": 61,
   "metadata": {},
   "outputs": [
    {
     "data": {
      "image/png": "[encoded data removed]",
      "text/plain": [
       "<PIL.Image.Image image mode=RGB size=1024x768 at 0x7FE2B5994978>"
      ]
     },
     "metadata": {},
     "output_type": "display_data"
    }
   ],
   "source": [
    "workingGrid.cell_arrays['head'] = cellHeads\n",
    "workingGrid.plot()"
   ]
  },
  {
   "cell_type": "markdown",
   "metadata": {},
   "source": [
    "### for cell heads"
   ]
  },
  {
   "cell_type": "raw",
   "metadata": {},
   "source": [
    "\n",
    "cellTubes = {}\n",
    "for index, cell in tqdm(enumerate(mfmodel.disv.cell2d.array)):\n",
    "    vertexIndexList = [x for x in list(cell)[4:] if x is not None]\n",
    "    filterVertexIndexList = [len(vertexIndexList)] + list(range(len(vertexIndexList)))\n",
    "    filterVertexIndexArray = np.array(filterVertexIndexList)\n",
    "    #create polydata for lay\n",
    "    layerTubes = {}\n",
    "    for lay in range(nlay):\n",
    "        if head[lay][0][index] > -1.00000000e+30:\n",
    "            filterVertexArray = np.array([list(verticesXYArray[vertex]) + [modelVertZ[lay,vertex]] for vertex in vertexIndexList])\n",
    "            cellSurf = pv.PolyData(filterVertexArray, filterVertexIndexArray)\n",
    "            cellSurf.cell_arrays['head'] = headRshp[lay,index]\n",
    "            cellZ = modelCellZ[:,index]\n",
    "            cellMesh = cellSurf.extrude([0, 0, cellZ[lay+1]-cellZ[lay]])\n",
    "            layerTubes[str(lay)] = cellMesh \n",
    "    blocks = pv.MultiBlock(layerTubes)\n",
    "    cellTubes[str(index)] = blocks.combine()\n",
    "totalModelCells = pv.MultiBlock(cellTubes)\n",
    "totalModelMerged = totalModelCells.combine()\n",
    "totalModelMerged.save('../vtk/modelCellHeads.vtk')"
   ]
  },
  {
   "cell_type": "markdown",
   "metadata": {},
   "source": [
    "### for water table"
   ]
  },
  {
   "cell_type": "raw",
   "metadata": {},
   "source": [
    "wtCellList =[] \n",
    "for index in tqdm(range(ncpl)):\n",
    "    headCell = headRshp[:,index]\n",
    "    wtCell = headCell[headCell>-1.00000000e+30][0]\n",
    "    wtCellList.append(wtCell)\n",
    "wtCellList = interpVertices(wtCellList, centroidXYArray, verticesXYArray)\n",
    "wtCellList"
   ]
  },
  {
   "cell_type": "raw",
   "metadata": {},
   "source": [
    "\n",
    "cellTubesList = []\n",
    "cellTubesDict = {}\n",
    "#cellX = pv.PolyData()\n",
    "for index, cell in tqdm(enumerate(mfmodel.disv.cell2d.array)):\n",
    "    vertexIndexList = [x for x in list(cell)[4:] if x is not None]\n",
    "    filterVertexIndexList = [len(vertexIndexList)] + list(range(len(vertexIndexList)))\n",
    "    filterVertexIndexArray = np.array(filterVertexIndexList)\n",
    "    #create polydata for lay\n",
    "    filterVertexArray = np.array([list(verticesXYArray[vertex]) + [wtCellList[vertex]] for vertex in vertexIndexList])\n",
    "    cellSurf = pv.PolyData(filterVertexArray, filterVertexIndexArray)\n",
    "    #cellSurf.cell_arrays['watertable'] = wtCellList[index]\n",
    "    cellTubesList.append(cellSurf)\n",
    "    #cellX += cellSurf\n",
    "    \n",
    "for index, cell in enumerate(cellTubesList):\n",
    "    cellTubesDict[str(index)]=cell\n",
    "    \n",
    "totalModelCells = pv.MultiBlock(cellTubesDict)\n",
    "totalModelMerged = totalModelCells.combine()\n",
    "totalModelMerged.save('../vtk/modelWaterTable.vtk')\n",
    "#cellX.save('../vtk/modelWaterTable.vtk')"
   ]
  },
  {
   "cell_type": "markdown",
   "metadata": {},
   "source": [
    "### for drain boundary"
   ]
  },
  {
   "cell_type": "code",
   "execution_count": null,
   "metadata": {},
   "outputs": [],
   "source": [
    "\n",
    "drnPkg = mfmodel.get_package('drn_0')\n",
    "drainTubes = {}\n",
    "for index, drnCell in tqdm(enumerate(drnPkg.stress_period_data.array[0])):\n",
    "    cellNumber = drnCell[0][1]\n",
    "    cellLay = drnCell[0][0]\n",
    "    cellGrid = mfmodel.disv.cell2d.array[cellNumber]\n",
    "    vertexIndexList = [x for x in list(cellGrid)[4:] if x is not None]\n",
    "    filterVertexIndexList = [len(vertexIndexList)] + list(range(len(vertexIndexList)))\n",
    "    filterVertexIndexArray = np.array(filterVertexIndexList)\n",
    "    filterVertexArray = np.array([list(verticesXYArray[vertex]) + [modelCellZ[cellLay,cellNumber]] for vertex in vertexIndexList])\n",
    "    cellSurf = pv.PolyData(filterVertexArray, filterVertexIndexArray)\n",
    "    cellSurf.cell_arrays['elevation'] = drnCell[1]\n",
    "    cellSurf.cell_arrays['cond'] = drnCell[2]\n",
    "    cellZ = modelCellZ[:,cellNumber]\n",
    "    cellMesh = cellSurf.extrude([0, 0, cellZ[cellLay +1]-cellZ[cellLay]])\n",
    "    drainTubes[str(index)] = cellMesh \n",
    "totalDrainsCells = pv.MultiBlock(drainTubes)\n",
    "totalDrainsMerged = totalDrainsCells.combine()\n",
    "totalDrainsMerged.save('../vtk/modelDrains.vtk')"
   ]
  },
  {
   "cell_type": "code",
   "execution_count": null,
   "metadata": {},
   "outputs": [],
   "source": [
    "import pyvista as pv\n",
    "import numpy as np\n",
    "import os, flopy\n",
    "import matplotlib.pyplot as plt\n",
    "name = 'Model'\n",
    "workspace = '../model'\n",
    "mf_exe_name = '../exe/mf6'\n",
    "\n",
    "sim = flopy.mf6.MFSimulation.load(sim_name=name, exe_name=mf_exe_name, sim_ws=workspace)\n",
    "\n",
    "mfmodel = sim.get_model(model_name='model')\n",
    "\n",
    "fname = os.path.join(workspace, name + '.hds')\n",
    "hdobj = flopy.utils.HeadFile(fname, precision='double')\n",
    "head = hdobj.get_data()\n",
    "headRshp = head.reshape((head.shape[0],head.shape[2]))\n",
    "\n",
    "mtop = np.ones([mfmodel.disv.nvert.array ])*mfmodel.disv.top[0]\n",
    "verticesXYArray = np.dstack((mfmodel.disv.vertices.array.xv,mfmodel.disv.vertices.array.yv))[0]"
   ]
  },
  {
   "cell_type": "code",
   "execution_count": null,
   "metadata": {},
   "outputs": [],
   "source": [
    "modelz = np.vstack((mfmodel.disv.top.array,mfmodel.disv.botm.array))\n",
    "nlay = mfmodel.disv.nlay.array"
   ]
  },
  {
   "cell_type": "code",
   "execution_count": null,
   "metadata": {},
   "outputs": [],
   "source": [
    "cellSurf = pv.PolyData()"
   ]
  },
  {
   "cell_type": "code",
   "execution_count": null,
   "metadata": {},
   "outputs": [],
   "source": []
  },
  {
   "cell_type": "code",
   "execution_count": null,
   "metadata": {},
   "outputs": [],
   "source": [
    "mtop"
   ]
  },
  {
   "cell_type": "code",
   "execution_count": null,
   "metadata": {},
   "outputs": [],
   "source": []
  }
 ],
 "metadata": {
  "kernelspec": {
   "display_name": "Python 3",
   "language": "python",
   "name": "python3"
  },
  "language_info": {
   "codemirror_mode": {
    "name": "ipython",
    "version": 3
   },
   "file_extension": ".py",
   "mimetype": "text/x-python",
   "name": "python",
   "nbconvert_exporter": "python",
   "pygments_lexer": "ipython3",
   "version": "3.6.9"
  }
 },
 "nbformat": 4,
 "nbformat_minor": 4
}
