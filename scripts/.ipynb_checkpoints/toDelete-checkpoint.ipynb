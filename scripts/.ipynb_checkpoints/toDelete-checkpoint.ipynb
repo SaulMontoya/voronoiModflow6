{
 "cells": [
  {
   "cell_type": "code",
   "execution_count": 1,
   "metadata": {},
   "outputs": [
    {
     "name": "stdout",
     "output_type": "stream",
     "text": [
      "\n",
      "/--------Sumary of cell discretization-------/\n",
      "Maximun refinement: 500.00 m.\n",
      "Minimum refinement: 6.17 m.\n",
      "/--------------------------------------------/\n",
      "\n"
     ]
    },
    {
     "name": "stderr",
     "output_type": "stream",
     "text": [
      "Filling points with refinement of 500.00 m: 100%|████████████████████████████████| 2530/2530 [00:01<00:00, 1653.60it/s]\n",
      "Filling points with refinement of 166.67 m: 100%|████████████████████████████████| 7300/7300 [00:02<00:00, 3367.17it/s]\n",
      "Filling points with refinement of 55.56 m: 100%|███████████████████████████████| 15973/15973 [00:06<00:00, 2595.53it/s]\n",
      "Filling points with refinement of 18.52 m: 100%|███████████████████████████████| 43772/43772 [00:16<00:00, 2682.73it/s]\n"
     ]
    },
    {
     "name": "stdout",
     "output_type": "stream",
     "text": [
      "\n",
      "/----Sumary of points for voronoi meshing----/\n",
      "Points from limit layers: 151\n",
      "Points from definition layers: 29150\n",
      "Total number of generated points: 183806\n",
      "/--------------------------------------------/\n",
      "\n",
      "Time required for point generation: 28.60 seconds\n",
      "\n",
      "Time required for Voronoi relaxation: 42.07 seconds\n",
      "\n",
      "/---------Sumary of voronoi meshing----------/\n",
      "Total number of cells: 182194\n",
      "Area of 95 percentile cell: 3914.85 m2\n",
      "Area of 50 percent (median) cell: 135.08 m2\n",
      "Area of 5 percentile cell: 42.03 m2\n",
      "/---------------------------------------------/\n",
      "\n",
      "Time required for Voronoi clipping: 57.68 seconds\n"
     ]
    }
   ],
   "source": [
    "from vorModflow.geoVoronoi import createVoronoi\n",
    "import matplotlib.pyplot as plt\n",
    "import geopandas as gpd\n",
    "import numpy as np\n",
    "\n",
    "import time\n",
    "\n",
    "#Create mesh object\n",
    "vorMesh = createVoronoi()\n",
    "\n",
    "#Define base refinement and refinement levels\n",
    "vorMesh.defineParameters(maxRef = 500, refLevel=3, refTimes = 4)\n",
    "\n",
    "#Open limit layers and refinement definition layers\n",
    "vorMesh.addLimitLayer('basin','../shps/Angascancha_Basin_Extension.shp')\n",
    "vorMesh.addDiscretizationLayer('river','../shps/rios.shp')\n",
    "\n",
    "#Generate point pair array\n",
    "vorMesh.domainPairArray( txtFile='../txt/pairArray.txt')\n",
    "\n",
    "#Relaxation of voronoi polygons\n",
    "#vorMesh.relaxVertices()\n",
    "#vorMesh.relaxVertices()\n",
    "#vorMesh.relaxVertices()\n",
    "\n",
    "#Create polygon object and clip to the limit layer\n",
    "vorMesh.createClipVoronoi('../shps/voronoiGrid.shp')"
   ]
  },
  {
   "cell_type": "code",
   "execution_count": 2,
   "metadata": {},
   "outputs": [],
   "source": [
    "from datetime import datetime"
   ]
  },
  {
   "cell_type": "code",
   "execution_count": 3,
   "metadata": {},
   "outputs": [
    {
     "data": {
      "text/plain": [
       "49"
      ]
     },
     "execution_count": 3,
     "metadata": {},
     "output_type": "execute_result"
    }
   ],
   "source": [
    "a = datetime.now().time()\n",
    "a.second"
   ]
  },
  {
   "cell_type": "code",
   "execution_count": 4,
   "metadata": {},
   "outputs": [
    {
     "ename": "SyntaxError",
     "evalue": "invalid syntax (<ipython-input-4-45c645fdba56>, line 1)",
     "output_type": "error",
     "traceback": [
      "\u001b[1;36m  File \u001b[1;32m\"<ipython-input-4-45c645fdba56>\"\u001b[1;36m, line \u001b[1;32m1\u001b[0m\n\u001b[1;33m    .ipynb_checkpoints/\u001b[0m\n\u001b[1;37m    ^\u001b[0m\n\u001b[1;31mSyntaxError\u001b[0m\u001b[1;31m:\u001b[0m invalid syntax\n"
     ]
    }
   ],
   "source": [
    ".ipynb_checkpoints/"
   ]
  }
 ],
 "metadata": {
  "kernelspec": {
   "display_name": "Python 3",
   "language": "python",
   "name": "python3"
  },
  "language_info": {
   "codemirror_mode": {
    "name": "ipython",
    "version": 3
   },
   "file_extension": ".py",
   "mimetype": "text/x-python",
   "name": "python",
   "nbconvert_exporter": "python",
   "pygments_lexer": "ipython3",
   "version": "3.8.3"
  }
 },
 "nbformat": 4,
 "nbformat_minor": 4
}
